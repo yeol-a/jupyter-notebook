{
 "cells": [
  {
   "cell_type": "code",
   "execution_count": 4,
   "id": "2691f93e",
   "metadata": {},
   "outputs": [
    {
     "name": "stdout",
     "output_type": "stream",
     "text": [
      "2900 커피를 뽑아줍니다\n",
      "2800 커피를 뽑아줍니다\n",
      "2700 커피를 뽑아줍니다\n",
      "2600 커피를 뽑아줍니다\n",
      "2500 커피를 뽑아줍니다\n",
      "2400 커피를 뽑아줍니다\n",
      "2300 커피를 뽑아줍니다\n",
      "2200 커피를 뽑아줍니다\n",
      "2100 커피를 뽑아줍니다\n",
      "커피가 다 떨어졌습니다. 판매를 중단합니다.\n"
     ]
    }
   ],
   "source": [
    "money=3000\n",
    "coffee=10\n",
    "while money!=0:\n",
    "    coffee= coffee -1\n",
    "    money= money -100\n",
    "    if coffee ==0:\n",
    "        print(\"커피가 다 떨어졌습니다. 판매를 중단합니다.\")\n",
    "        break\n",
    "        \n",
    "    print(money, \"커피를 뽑아줍니다\")\n"
   ]
  },
  {
   "cell_type": "code",
   "execution_count": null,
   "id": "ec338f88",
   "metadata": {},
   "outputs": [],
   "source": []
  }
 ],
 "metadata": {
  "kernelspec": {
   "display_name": "Python 3",
   "language": "python",
   "name": "python3"
  },
  "language_info": {
   "codemirror_mode": {
    "name": "ipython",
    "version": 3
   },
   "file_extension": ".py",
   "mimetype": "text/x-python",
   "name": "python",
   "nbconvert_exporter": "python",
   "pygments_lexer": "ipython3",
   "version": "3.8.8"
  }
 },
 "nbformat": 4,
 "nbformat_minor": 5
}
