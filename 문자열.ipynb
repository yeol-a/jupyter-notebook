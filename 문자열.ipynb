{
 "cells": [
  {
   "cell_type": "code",
   "execution_count": 1,
   "id": "d9ef3250",
   "metadata": {},
   "outputs": [
    {
     "name": "stdout",
     "output_type": "stream",
     "text": [
      "hello\n"
     ]
    },
    {
     "data": {
      "text/plain": [
       "str"
      ]
     },
     "execution_count": 1,
     "metadata": {},
     "output_type": "execute_result"
    }
   ],
   "source": [
    "a = \"hello\"\n",
    "print(a)\n",
    "type(a)"
   ]
  },
  {
   "cell_type": "code",
   "execution_count": 3,
   "id": "c2af8dd0",
   "metadata": {},
   "outputs": [
    {
     "name": "stdout",
     "output_type": "stream",
     "text": [
      "he says 'hello'\n"
     ]
    }
   ],
   "source": [
    "a = \"he says 'hello'\"\n",
    "print(a)"
   ]
  },
  {
   "cell_type": "code",
   "execution_count": 8,
   "id": "a75e402b",
   "metadata": {},
   "outputs": [
    {
     "name": "stdout",
     "output_type": "stream",
     "text": [
      "'he says' \"hello\"\n"
     ]
    }
   ],
   "source": [
    "a = \"\\'he says\\' \\\"hello\\\"\"\n",
    "print(a)"
   ]
  },
  {
   "cell_type": "code",
   "execution_count": 1,
   "id": "61d76b6f",
   "metadata": {},
   "outputs": [
    {
     "name": "stdout",
     "output_type": "stream",
     "text": [
      "10000\\\n"
     ]
    }
   ],
   "source": [
    "b = \"10000\\\\\"\n",
    "print(b)"
   ]
  },
  {
   "cell_type": "code",
   "execution_count": 5,
   "id": "3239ae0b",
   "metadata": {},
   "outputs": [
    {
     "name": "stdout",
     "output_type": "stream",
     "text": [
      "Life is short\n",
      "Yolo\n"
     ]
    }
   ],
   "source": [
    "c = \"Life is short\\nYolo\"\n",
    "print(c)"
   ]
  },
  {
   "cell_type": "code",
   "execution_count": 6,
   "id": "8b249b95",
   "metadata": {},
   "outputs": [
    {
     "name": "stdout",
     "output_type": "stream",
     "text": [
      "hi there\n"
     ]
    }
   ],
   "source": [
    "d = '''hi there'''\n",
    "print(d)"
   ]
  },
  {
   "cell_type": "code",
   "execution_count": 7,
   "id": "706e961e",
   "metadata": {},
   "outputs": [
    {
     "name": "stdout",
     "output_type": "stream",
     "text": [
      "python is funny\n"
     ]
    }
   ],
   "source": [
    "a = \"python\"\n",
    "b = \" is funny\"\n",
    "print(a+b)"
   ]
  },
  {
   "cell_type": "code",
   "execution_count": 8,
   "id": "2a944d99",
   "metadata": {},
   "outputs": [
    {
     "name": "stdout",
     "output_type": "stream",
     "text": [
      "pythonpython\n"
     ]
    }
   ],
   "source": [
    "print(a*2)"
   ]
  },
  {
   "cell_type": "code",
   "execution_count": 12,
   "id": "0c83879a",
   "metadata": {},
   "outputs": [
    {
     "name": "stdout",
     "output_type": "stream",
     "text": [
      "==========\n",
      "My program\n",
      "==========\n"
     ]
    }
   ],
   "source": [
    "a = \"=\"\n",
    "print(a*10)\n",
    "print(\"My program\")\n",
    "print(a*10)"
   ]
  },
  {
   "cell_type": "code",
   "execution_count": 13,
   "id": "1f3e2254",
   "metadata": {},
   "outputs": [
    {
     "name": "stdout",
     "output_type": "stream",
     "text": [
      "13\n"
     ]
    }
   ],
   "source": [
    "a = \"python is fun\"\n",
    "print(len(a))"
   ]
  },
  {
   "cell_type": "code",
   "execution_count": 14,
   "id": "00be0a3e",
   "metadata": {},
   "outputs": [
    {
     "name": "stdout",
     "output_type": "stream",
     "text": [
      "f\n"
     ]
    }
   ],
   "source": [
    "print(a[-3])"
   ]
  },
  {
   "cell_type": "code",
   "execution_count": 16,
   "id": "034e38d4",
   "metadata": {},
   "outputs": [
    {
     "name": "stdout",
     "output_type": "stream",
     "text": [
      "python \n"
     ]
    }
   ],
   "source": [
    "print(a[:7])"
   ]
  },
  {
   "cell_type": "code",
   "execution_count": 17,
   "id": "f7afc70e",
   "metadata": {},
   "outputs": [
    {
     "name": "stdout",
     "output_type": "stream",
     "text": [
      "python is fun\n",
      "python is\n",
      "n is fun\n"
     ]
    }
   ],
   "source": [
    "print(a[:])\n",
    "print(a[:9])\n",
    "print(a[5:])"
   ]
  },
  {
   "cell_type": "code",
   "execution_count": 21,
   "id": "a09b61a0",
   "metadata": {},
   "outputs": [
    {
     "name": "stdout",
     "output_type": "stream",
     "text": [
      "python\n"
     ]
    }
   ],
   "source": [
    "a = \"pithon\"\n",
    "b = a[0]+ \"y\" + a[2:6]\n",
    "print(b)"
   ]
  },
  {
   "cell_type": "code",
   "execution_count": 23,
   "id": "2552f07e",
   "metadata": {},
   "outputs": [
    {
     "name": "stdout",
     "output_type": "stream",
     "text": [
      "5\n",
      "i eat 5 apples\n"
     ]
    }
   ],
   "source": [
    "a = input()\n",
    "print(\"i eat\", a, \"apples\")"
   ]
  },
  {
   "cell_type": "code",
   "execution_count": 24,
   "id": "f030cfc3",
   "metadata": {},
   "outputs": [
    {
     "name": "stdout",
     "output_type": "stream",
     "text": [
      "I eat 3 apples.\n"
     ]
    }
   ],
   "source": [
    "print(\"I eat %d apples.\" %3)"
   ]
  },
  {
   "cell_type": "code",
   "execution_count": 27,
   "id": "330e6fa5",
   "metadata": {},
   "outputs": [
    {
     "name": "stdout",
     "output_type": "stream",
     "text": [
      "I eat sweet apples.\n"
     ]
    }
   ],
   "source": [
    "print(\"I eat %s apples.\" %\"sweet\")"
   ]
  },
  {
   "cell_type": "code",
   "execution_count": 28,
   "id": "fad6abaa",
   "metadata": {},
   "outputs": [
    {
     "name": "stdout",
     "output_type": "stream",
     "text": [
      "I eat 3 apples.\n"
     ]
    }
   ],
   "source": [
    "number = 3\n",
    "print(\"I eat %d apples.\" %number)"
   ]
  },
  {
   "cell_type": "code",
   "execution_count": 33,
   "id": "b79c597c",
   "metadata": {},
   "outputs": [
    {
     "name": "stdout",
     "output_type": "stream",
     "text": [
      "I ate 3 apples. So I was sick three days.\n"
     ]
    }
   ],
   "source": [
    "days = \"three days\"\n",
    "print(\"I ate %d apples. So I was sick %s.\" %(number, days))"
   ]
  },
  {
   "cell_type": "code",
   "execution_count": 34,
   "id": "44909f06",
   "metadata": {},
   "outputs": [
    {
     "name": "stdout",
     "output_type": "stream",
     "text": [
      "apple banana tomato\n"
     ]
    }
   ],
   "source": [
    "print(\"{} {} {}\".format(\"apple\", \"banana\", \"tomato\"))"
   ]
  },
  {
   "cell_type": "code",
   "execution_count": 37,
   "id": "7268c086",
   "metadata": {},
   "outputs": [
    {
     "name": "stdout",
     "output_type": "stream",
     "text": [
      "I ate three days apples. So I was sick 3.\n"
     ]
    }
   ],
   "source": [
    "print(\"I ate {1} apples. So I was sick {0}.\".format(3, \"three days\"))"
   ]
  },
  {
   "cell_type": "code",
   "execution_count": 38,
   "id": "1a4022b6",
   "metadata": {},
   "outputs": [
    {
     "name": "stdout",
     "output_type": "stream",
     "text": [
      "I ate 3 apples. So I was sick three days days\n"
     ]
    }
   ],
   "source": [
    "number = 3\n",
    "days = \"three days\"\n",
    "print(f\"I ate {number} apples. So I was sick {days} days\")"
   ]
  },
  {
   "cell_type": "markdown",
   "id": "27e45136",
   "metadata": {},
   "source": [
    "문자열 개수 "
   ]
  },
  {
   "cell_type": "code",
   "execution_count": 43,
   "id": "9f226521",
   "metadata": {},
   "outputs": [
    {
     "name": "stdout",
     "output_type": "stream",
     "text": [
      "2\n"
     ]
    }
   ],
   "source": [
    "a = \"hobby\"\n",
    "print(a.count(\"b\"))"
   ]
  },
  {
   "cell_type": "markdown",
   "id": "db52dc55",
   "metadata": {},
   "source": [
    "문자 위치 찾기"
   ]
  },
  {
   "cell_type": "code",
   "execution_count": 44,
   "id": "2060b306",
   "metadata": {},
   "outputs": [
    {
     "name": "stdout",
     "output_type": "stream",
     "text": [
      "4\n"
     ]
    }
   ],
   "source": [
    "print(a.find(\"y\"))"
   ]
  },
  {
   "cell_type": "code",
   "execution_count": 45,
   "id": "aa813695",
   "metadata": {},
   "outputs": [
    {
     "name": "stdout",
     "output_type": "stream",
     "text": [
      "-1\n"
     ]
    }
   ],
   "source": [
    "print(a.find(\"c\"))"
   ]
  },
  {
   "cell_type": "code",
   "execution_count": 47,
   "id": "463a7374",
   "metadata": {},
   "outputs": [
    {
     "name": "stdout",
     "output_type": "stream",
     "text": [
      "4\n"
     ]
    }
   ],
   "source": [
    "print(a.index(\"y\"))"
   ]
  },
  {
   "cell_type": "code",
   "execution_count": 48,
   "id": "830d9f50",
   "metadata": {},
   "outputs": [
    {
     "ename": "ValueError",
     "evalue": "substring not found",
     "output_type": "error",
     "traceback": [
      "\u001b[1;31m---------------------------------------------------------------------------\u001b[0m",
      "\u001b[1;31mValueError\u001b[0m                                Traceback (most recent call last)",
      "\u001b[1;32m<ipython-input-48-ae68515b1c84>\u001b[0m in \u001b[0;36m<module>\u001b[1;34m\u001b[0m\n\u001b[1;32m----> 1\u001b[1;33m \u001b[0mprint\u001b[0m\u001b[1;33m(\u001b[0m\u001b[0ma\u001b[0m\u001b[1;33m.\u001b[0m\u001b[0mindex\u001b[0m\u001b[1;33m(\u001b[0m\u001b[1;34m\"c\"\u001b[0m\u001b[1;33m)\u001b[0m\u001b[1;33m)\u001b[0m\u001b[1;33m\u001b[0m\u001b[1;33m\u001b[0m\u001b[0m\n\u001b[0m",
      "\u001b[1;31mValueError\u001b[0m: substring not found"
     ]
    }
   ],
   "source": [
    "print(a.index(\"c\"))"
   ]
  },
  {
   "cell_type": "markdown",
   "id": "347a4ace",
   "metadata": {},
   "source": [
    "문자열 삽입 (문자열 각각의 연결점에 insert 해주는 것) "
   ]
  },
  {
   "cell_type": "code",
   "execution_count": 51,
   "id": "ca9e89e4",
   "metadata": {},
   "outputs": [
    {
     "name": "stdout",
     "output_type": "stream",
     "text": [
      "a,b,c,d\n"
     ]
    }
   ],
   "source": [
    "a = \",\"\n",
    "print(a.join(\"abcd\"))"
   ]
  },
  {
   "cell_type": "code",
   "execution_count": 54,
   "id": "75ade8eb",
   "metadata": {},
   "outputs": [
    {
     "name": "stdout",
     "output_type": "stream",
     "text": [
      "HELLO\n"
     ]
    }
   ],
   "source": [
    "a = \"hello\"\n",
    "print(a.upper())"
   ]
  },
  {
   "cell_type": "code",
   "execution_count": 55,
   "id": "c5835ffd",
   "metadata": {},
   "outputs": [
    {
     "name": "stdout",
     "output_type": "stream",
     "text": [
      "hello\n"
     ]
    }
   ],
   "source": [
    "a = \"HELLO\"\n",
    "print(a.lower())"
   ]
  },
  {
   "cell_type": "markdown",
   "id": "a881de81",
   "metadata": {},
   "source": [
    "공백 없애기 (lstrip, rstrip, strip) <= IO 와 관련이 많음"
   ]
  },
  {
   "cell_type": "code",
   "execution_count": 57,
   "id": "4e5d0d9b",
   "metadata": {},
   "outputs": [
    {
     "name": "stdout",
     "output_type": "stream",
     "text": [
      "hi \n",
      " hi\n",
      "hi\n"
     ]
    }
   ],
   "source": [
    "a = \" hi \"\n",
    "b = \" hi \"\n",
    "c = \" hi \"\n",
    "print(a.lstrip())\n",
    "print(b.rstrip())\n",
    "print(c.strip())"
   ]
  },
  {
   "cell_type": "markdown",
   "id": "981e5c0c",
   "metadata": {},
   "source": [
    "문자열 변경 (replace)"
   ]
  },
  {
   "cell_type": "code",
   "execution_count": 58,
   "id": "622b0e19",
   "metadata": {},
   "outputs": [
    {
     "name": "stdout",
     "output_type": "stream",
     "text": [
      "Python is fun\n"
     ]
    }
   ],
   "source": [
    "a = \"IT is fun\"\n",
    "print(a.replace(\"IT\", \"Python\"))"
   ]
  },
  {
   "cell_type": "code",
   "execution_count": 59,
   "id": "37725630",
   "metadata": {},
   "outputs": [
    {
     "name": "stdout",
     "output_type": "stream",
     "text": [
      "[] [1, 2, 3] ['a', 'b', 'c']\n"
     ]
    }
   ],
   "source": [
    "a = []\n",
    "b = [1,2,3]\n",
    "c = [\"a\", \"b\", \"c\"]\n",
    "print(a, b, c)"
   ]
  },
  {
   "cell_type": "code",
   "execution_count": 60,
   "id": "04bee619",
   "metadata": {},
   "outputs": [
    {
     "data": {
      "text/plain": [
       "list"
      ]
     },
     "execution_count": 60,
     "metadata": {},
     "output_type": "execute_result"
    }
   ],
   "source": [
    "type(a)"
   ]
  },
  {
   "cell_type": "markdown",
   "id": "0c06d37e",
   "metadata": {},
   "source": [
    "리스트 더하기"
   ]
  },
  {
   "cell_type": "code",
   "execution_count": 62,
   "id": "9de02ff7",
   "metadata": {},
   "outputs": [
    {
     "name": "stdout",
     "output_type": "stream",
     "text": [
      "[1, 2, 3, 'a', 'b', 'c']\n"
     ]
    }
   ],
   "source": [
    "print(a+b+c)"
   ]
  },
  {
   "cell_type": "code",
   "execution_count": 65,
   "id": "9fa0712c",
   "metadata": {},
   "outputs": [
    {
     "name": "stdout",
     "output_type": "stream",
     "text": [
      "2b\n"
     ]
    }
   ],
   "source": [
    "print(str(b[1])+c[1])"
   ]
  },
  {
   "cell_type": "markdown",
   "id": "bc3443bb",
   "metadata": {},
   "source": [
    "리스트 인덱싱"
   ]
  },
  {
   "cell_type": "code",
   "execution_count": 67,
   "id": "ad4c77ba",
   "metadata": {},
   "outputs": [],
   "source": [
    "a =[1, 2, 3, 'a', 'b', 'c'] "
   ]
  },
  {
   "cell_type": "code",
   "execution_count": 69,
   "id": "7949aa53",
   "metadata": {},
   "outputs": [
    {
     "name": "stdout",
     "output_type": "stream",
     "text": [
      "2\n",
      "b\n"
     ]
    }
   ],
   "source": [
    "print(a[1])\n",
    "print(a[-2])"
   ]
  },
  {
   "cell_type": "code",
   "execution_count": 70,
   "id": "7e75fff3",
   "metadata": {},
   "outputs": [],
   "source": [
    "a = [1,2,3,[\"a\", \"b\", \"c\"]]"
   ]
  },
  {
   "cell_type": "code",
   "execution_count": 71,
   "id": "2205335e",
   "metadata": {},
   "outputs": [
    {
     "name": "stdout",
     "output_type": "stream",
     "text": [
      "['a', 'b', 'c']\n"
     ]
    }
   ],
   "source": [
    "print(a[3])"
   ]
  },
  {
   "cell_type": "code",
   "execution_count": 73,
   "id": "d60951be",
   "metadata": {},
   "outputs": [
    {
     "name": "stdout",
     "output_type": "stream",
     "text": [
      "b\n"
     ]
    }
   ],
   "source": [
    "print(a[3][1])"
   ]
  },
  {
   "cell_type": "code",
   "execution_count": 74,
   "id": "52cb67f5",
   "metadata": {},
   "outputs": [
    {
     "name": "stdout",
     "output_type": "stream",
     "text": [
      "c\n"
     ]
    }
   ],
   "source": [
    "b = [1, 2, ['a', 'b', ['c', 'd']]]\n",
    "print(b[2][2][0])"
   ]
  },
  {
   "cell_type": "code",
   "execution_count": 76,
   "id": "d60b134a",
   "metadata": {},
   "outputs": [
    {
     "name": "stdout",
     "output_type": "stream",
     "text": [
      "[2, 3]\n"
     ]
    }
   ],
   "source": [
    "a = [1,2,3,4,5]\n",
    "print(a[1:3])"
   ]
  },
  {
   "cell_type": "markdown",
   "id": "6c4eea5e",
   "metadata": {},
   "source": [
    "리스트의 인덱싱과 슬라이싱"
   ]
  },
  {
   "cell_type": "code",
   "execution_count": 77,
   "id": "0936af48",
   "metadata": {},
   "outputs": [
    {
     "name": "stdout",
     "output_type": "stream",
     "text": [
      "['b', 'c']\n"
     ]
    }
   ],
   "source": [
    "a = [1,2,3,['a','b','c'], 4, 5]\n",
    "print(a[3][1:3])"
   ]
  },
  {
   "cell_type": "markdown",
   "id": "b1b3c930",
   "metadata": {},
   "source": [
    "리스트의 수정"
   ]
  },
  {
   "cell_type": "code",
   "execution_count": 90,
   "id": "26b072c8",
   "metadata": {},
   "outputs": [
    {
     "name": "stdout",
     "output_type": "stream",
     "text": [
      "[1, 2, 4]\n"
     ]
    }
   ],
   "source": [
    "a = [1, 2, 3]\n",
    "a[2] = 4\n",
    "print(a)"
   ]
  },
  {
   "cell_type": "code",
   "execution_count": 91,
   "id": "92704ea0",
   "metadata": {},
   "outputs": [
    {
     "name": "stdout",
     "output_type": "stream",
     "text": [
      "[1, 'a', 'b', 'c', 3]\n"
     ]
    }
   ],
   "source": [
    "a = [1, 2, 3]\n",
    "a[1:2]=['a','b','c']\n",
    "print(a)"
   ]
  },
  {
   "cell_type": "code",
   "execution_count": 95,
   "id": "901d251d",
   "metadata": {},
   "outputs": [
    {
     "name": "stdout",
     "output_type": "stream",
     "text": [
      "[1, ['a', 'b', 'c'], 3]\n"
     ]
    }
   ],
   "source": [
    "a = [1, 2, 3]\n",
    "a[1]=['a','b','c']\n",
    "print(a)"
   ]
  },
  {
   "cell_type": "markdown",
   "id": "1bde917e",
   "metadata": {},
   "source": [
    "리스트 요소 제거"
   ]
  },
  {
   "cell_type": "code",
   "execution_count": 96,
   "id": "cf47f467",
   "metadata": {},
   "outputs": [
    {
     "name": "stdout",
     "output_type": "stream",
     "text": [
      "[3]\n"
     ]
    }
   ],
   "source": [
    "a=[1, ['a', 'b', 'c'], 3]\n",
    "a[:2]=[]\n",
    "print(a)"
   ]
  },
  {
   "cell_type": "code",
   "execution_count": 97,
   "id": "dd3a3e1a",
   "metadata": {},
   "outputs": [
    {
     "name": "stdout",
     "output_type": "stream",
     "text": [
      "[3]\n"
     ]
    }
   ],
   "source": [
    "a=[1, ['a', 'b', 'c'], 3]\n",
    "del a[0:2]\n",
    "print(a)"
   ]
  },
  {
   "cell_type": "markdown",
   "id": "ee688643",
   "metadata": {},
   "source": [
    "리스트 관련 함수들\n",
    "- 문자열과 마찬가지로 리스트 변수 이름 뒤에 .을 붙이고 함수를 써주면 됨 "
   ]
  },
  {
   "cell_type": "code",
   "execution_count": 98,
   "id": "74f2a906",
   "metadata": {},
   "outputs": [
    {
     "name": "stdout",
     "output_type": "stream",
     "text": [
      "[1, 2, 3, 4]\n"
     ]
    }
   ],
   "source": [
    "a = [1,2,3]\n",
    "a.append(4)\n",
    "print(a)"
   ]
  },
  {
   "cell_type": "code",
   "execution_count": 101,
   "id": "022788bb",
   "metadata": {},
   "outputs": [
    {
     "name": "stdout",
     "output_type": "stream",
     "text": [
      "[1, 2, 3, 4, ['a', 'b']]\n"
     ]
    }
   ],
   "source": [
    "b = ['a', 'b']\n",
    "a.append(b)\n",
    "print(a)"
   ]
  },
  {
   "cell_type": "code",
   "execution_count": 102,
   "id": "6c9adb12",
   "metadata": {},
   "outputs": [
    {
     "name": "stdout",
     "output_type": "stream",
     "text": [
      "[1, 2, 3, 4, ['a', 'b'], ['c', 'd']]\n"
     ]
    }
   ],
   "source": [
    "a.append(['c', 'd'])\n",
    "print(a)"
   ]
  },
  {
   "cell_type": "code",
   "execution_count": 111,
   "id": "fb9f04fd",
   "metadata": {},
   "outputs": [
    {
     "name": "stdout",
     "output_type": "stream",
     "text": [
      "<built-in method sort of list object at 0x000001FEC89A6E80>\n"
     ]
    }
   ],
   "source": [
    "a = [2,3,1,4]\n",
    "print(a.sort)"
   ]
  },
  {
   "cell_type": "code",
   "execution_count": 112,
   "id": "39da531e",
   "metadata": {},
   "outputs": [
    {
     "name": "stdout",
     "output_type": "stream",
     "text": [
      "None\n"
     ]
    }
   ],
   "source": [
    "print(a.sort())"
   ]
  },
  {
   "cell_type": "markdown",
   "id": "15786273",
   "metadata": {},
   "source": [
    "sort나 append 같은 함수는 return 을 내뱉는 애가 아니기 때문에 print를 하면 none이 뜰 것임"
   ]
  },
  {
   "cell_type": "code",
   "execution_count": 113,
   "id": "65547ed2",
   "metadata": {},
   "outputs": [
    {
     "name": "stdout",
     "output_type": "stream",
     "text": [
      "[1, 2, 3, 4]\n"
     ]
    }
   ],
   "source": [
    "print(a)"
   ]
  },
  {
   "cell_type": "code",
   "execution_count": 114,
   "id": "c3f3e7c6",
   "metadata": {},
   "outputs": [
    {
     "name": "stdout",
     "output_type": "stream",
     "text": [
      "[4, 3, 2, 1]\n"
     ]
    }
   ],
   "source": [
    "a.reverse()\n",
    "print(a)"
   ]
  },
  {
   "cell_type": "code",
   "execution_count": 106,
   "id": "618107fe",
   "metadata": {},
   "outputs": [
    {
     "ename": "TypeError",
     "evalue": "'<' not supported between instances of 'str' and 'int'",
     "output_type": "error",
     "traceback": [
      "\u001b[1;31m---------------------------------------------------------------------------\u001b[0m",
      "\u001b[1;31mTypeError\u001b[0m                                 Traceback (most recent call last)",
      "\u001b[1;32m<ipython-input-106-bd55e7963bb7>\u001b[0m in \u001b[0;36m<module>\u001b[1;34m\u001b[0m\n\u001b[0;32m      1\u001b[0m \u001b[0ma\u001b[0m \u001b[1;33m=\u001b[0m \u001b[1;33m[\u001b[0m\u001b[1;36m123\u001b[0m\u001b[1;33m,\u001b[0m \u001b[1;34m'ab'\u001b[0m\u001b[1;33m]\u001b[0m\u001b[1;33m\u001b[0m\u001b[1;33m\u001b[0m\u001b[0m\n\u001b[1;32m----> 2\u001b[1;33m \u001b[0ma\u001b[0m\u001b[1;33m.\u001b[0m\u001b[0msort\u001b[0m\u001b[1;33m(\u001b[0m\u001b[1;33m)\u001b[0m\u001b[1;33m\u001b[0m\u001b[1;33m\u001b[0m\u001b[0m\n\u001b[0m\u001b[0;32m      3\u001b[0m \u001b[0mprint\u001b[0m\u001b[1;33m(\u001b[0m\u001b[0ma\u001b[0m\u001b[1;33m)\u001b[0m\u001b[1;33m\u001b[0m\u001b[1;33m\u001b[0m\u001b[0m\n",
      "\u001b[1;31mTypeError\u001b[0m: '<' not supported between instances of 'str' and 'int'"
     ]
    }
   ],
   "source": [
    "a = [123, 'ab']\n",
    "a.sort()\n",
    "print(a)"
   ]
  },
  {
   "cell_type": "code",
   "execution_count": 107,
   "id": "b8a5511c",
   "metadata": {},
   "outputs": [
    {
     "name": "stdout",
     "output_type": "stream",
     "text": [
      "['123', 'ab']\n"
     ]
    }
   ],
   "source": [
    "a = ['123', 'ab']\n",
    "a.sort()\n",
    "print(a)"
   ]
  },
  {
   "cell_type": "markdown",
   "id": "4ccdf551",
   "metadata": {},
   "source": [
    "리스트 뒤집기 (reverse)"
   ]
  },
  {
   "cell_type": "code",
   "execution_count": 108,
   "id": "f10d491c",
   "metadata": {},
   "outputs": [
    {
     "name": "stdout",
     "output_type": "stream",
     "text": [
      "['c', 'a', 'b']\n"
     ]
    }
   ],
   "source": [
    "a = ['b', 'a', 'c']\n",
    "a.reverse()\n",
    "print(a)"
   ]
  },
  {
   "cell_type": "markdown",
   "id": "bda14e2d",
   "metadata": {},
   "source": [
    "리스트 요소찾기 (index) : 2라는 애를 찾으면, '1'의 자리에 있다~라면서 '자리'를 알려줌 "
   ]
  },
  {
   "cell_type": "code",
   "execution_count": 122,
   "id": "fc8581bf",
   "metadata": {},
   "outputs": [
    {
     "name": "stdout",
     "output_type": "stream",
     "text": [
      "1\n"
     ]
    }
   ],
   "source": [
    "a = [1,2,3]\n",
    "print(a.index(2))"
   ]
  },
  {
   "cell_type": "code",
   "execution_count": 123,
   "id": "878477ce",
   "metadata": {},
   "outputs": [
    {
     "ename": "ValueError",
     "evalue": "4 is not in list",
     "output_type": "error",
     "traceback": [
      "\u001b[1;31m---------------------------------------------------------------------------\u001b[0m",
      "\u001b[1;31mValueError\u001b[0m                                Traceback (most recent call last)",
      "\u001b[1;32m<ipython-input-123-825413a361e6>\u001b[0m in \u001b[0;36m<module>\u001b[1;34m\u001b[0m\n\u001b[1;32m----> 1\u001b[1;33m \u001b[0mprint\u001b[0m\u001b[1;33m(\u001b[0m\u001b[0ma\u001b[0m\u001b[1;33m.\u001b[0m\u001b[0mindex\u001b[0m\u001b[1;33m(\u001b[0m\u001b[1;36m4\u001b[0m\u001b[1;33m)\u001b[0m\u001b[1;33m)\u001b[0m\u001b[1;33m\u001b[0m\u001b[1;33m\u001b[0m\u001b[0m\n\u001b[0m",
      "\u001b[1;31mValueError\u001b[0m: 4 is not in list"
     ]
    }
   ],
   "source": [
    "print(a.index(4))"
   ]
  },
  {
   "cell_type": "code",
   "execution_count": null,
   "id": "e8633b10",
   "metadata": {},
   "outputs": [],
   "source": []
  }
 ],
 "metadata": {
  "kernelspec": {
   "display_name": "Python 3",
   "language": "python",
   "name": "python3"
  },
  "language_info": {
   "codemirror_mode": {
    "name": "ipython",
    "version": 3
   },
   "file_extension": ".py",
   "mimetype": "text/x-python",
   "name": "python",
   "nbconvert_exporter": "python",
   "pygments_lexer": "ipython3",
   "version": "3.8.8"
  }
 },
 "nbformat": 4,
 "nbformat_minor": 5
}
