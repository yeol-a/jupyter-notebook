{
 "cells": [
  {
   "cell_type": "markdown",
   "id": "0289b6fc",
   "metadata": {},
   "source": [
    "try ~ except ~ finally"
   ]
  },
  {
   "cell_type": "code",
   "execution_count": 1,
   "id": "8f7abd01",
   "metadata": {},
   "outputs": [
    {
     "name": "stdout",
     "output_type": "stream",
     "text": [
      "error\n",
      "어떤 구문이든 실행함\n"
     ]
    }
   ],
   "source": [
    "x = 0\n",
    "try:\n",
    "    4/x\n",
    "except:\n",
    "    print(\"error\")\n",
    "finally:\n",
    "    print(\"어떤 구문이든 실행함\")"
   ]
  },
  {
   "cell_type": "code",
   "execution_count": 3,
   "id": "b2b4e6e4",
   "metadata": {},
   "outputs": [
    {
     "name": "stdout",
     "output_type": "stream",
     "text": [
      "어떤 구문이든 실행함\n"
     ]
    }
   ],
   "source": [
    "x=1\n",
    "try:\n",
    "    4/x\n",
    "except:\n",
    "    print(\"error\")\n",
    "finally:\n",
    "    print(\"어떤 구문이든 실행함\")"
   ]
  },
  {
   "cell_type": "markdown",
   "id": "bd37d0f0",
   "metadata": {},
   "source": [
    "finally 구문\n",
    "- 에러가 발생하지 않던, 에러가 발생하던 무조건 수행해야하는 구문에는 finally를 써줘야함"
   ]
  },
  {
   "cell_type": "code",
   "execution_count": 6,
   "id": "777bdc8f",
   "metadata": {},
   "outputs": [
    {
     "ename": "MyError",
     "evalue": "",
     "output_type": "error",
     "traceback": [
      "\u001b[1;31m---------------------------------------------------------------------------\u001b[0m",
      "\u001b[1;31mMyError\u001b[0m                                   Traceback (most recent call last)",
      "\u001b[1;32m<ipython-input-6-02103fc5882a>\u001b[0m in \u001b[0;36m<module>\u001b[1;34m\u001b[0m\n\u001b[0;32m      5\u001b[0m     \u001b[1;32mraise\u001b[0m \u001b[0mMyError\u001b[0m\u001b[1;33m(\u001b[0m\u001b[1;33m)\u001b[0m\u001b[1;33m\u001b[0m\u001b[1;33m\u001b[0m\u001b[0m\n\u001b[0;32m      6\u001b[0m \u001b[1;33m\u001b[0m\u001b[0m\n\u001b[1;32m----> 7\u001b[1;33m \u001b[0mprint\u001b[0m\u001b[1;33m(\u001b[0m\u001b[0mMyError2\u001b[0m\u001b[1;33m(\u001b[0m\u001b[1;33m)\u001b[0m\u001b[1;33m)\u001b[0m\u001b[1;33m\u001b[0m\u001b[1;33m\u001b[0m\u001b[0m\n\u001b[0m",
      "\u001b[1;32m<ipython-input-6-02103fc5882a>\u001b[0m in \u001b[0;36mMyError2\u001b[1;34m()\u001b[0m\n\u001b[0;32m      3\u001b[0m \u001b[1;33m\u001b[0m\u001b[0m\n\u001b[0;32m      4\u001b[0m \u001b[1;32mdef\u001b[0m \u001b[0mMyError2\u001b[0m\u001b[1;33m(\u001b[0m\u001b[1;33m)\u001b[0m\u001b[1;33m:\u001b[0m\u001b[1;33m\u001b[0m\u001b[1;33m\u001b[0m\u001b[0m\n\u001b[1;32m----> 5\u001b[1;33m     \u001b[1;32mraise\u001b[0m \u001b[0mMyError\u001b[0m\u001b[1;33m(\u001b[0m\u001b[1;33m)\u001b[0m\u001b[1;33m\u001b[0m\u001b[1;33m\u001b[0m\u001b[0m\n\u001b[0m\u001b[0;32m      6\u001b[0m \u001b[1;33m\u001b[0m\u001b[0m\n\u001b[0;32m      7\u001b[0m \u001b[0mprint\u001b[0m\u001b[1;33m(\u001b[0m\u001b[0mMyError2\u001b[0m\u001b[1;33m(\u001b[0m\u001b[1;33m)\u001b[0m\u001b[1;33m)\u001b[0m\u001b[1;33m\u001b[0m\u001b[1;33m\u001b[0m\u001b[0m\n",
      "\u001b[1;31mMyError\u001b[0m: "
     ]
    }
   ],
   "source": [
    "class MyError(Exception):\n",
    "    def __str__(self):\n",
    "        return \"에러에 대한 세부항목입니다.\"\n",
    "\n",
    "def MyError2():\n",
    "    raise MyError()\n",
    "    \n",
    "print(MyError2())"
   ]
  },
  {
   "cell_type": "markdown",
   "id": "8739b867",
   "metadata": {},
   "source": [
    "1. Exception은 에러를 포함하고 있는 파이썬 내장 클래스. 자동으로 init이 실행되면서 에러를 반환시켜줌<br>\n",
    "- 직접적으로 만들 수 없기 때문에 '상속'을 하여 클래스를 정의해줘야함\n",
    "\n",
    "2. raise 는 에레를 일부러 발생시키는 것<br>\n",
    "3. \\_\\_str\\_\\_은 우리가 입력한 것을 문자로 무조건 반환해주는 것 <br>\n",
    "- 문자열이 들어갈 수 있는 자리에는 str 변수를 넣어서 그 자리에 알아서 문자가 들어갈 수 있게 해줌\n",
    "\n",
    "4. init은 우리가 입력했을 때 무조건적으로 실행되는 메소드"
   ]
  },
  {
   "cell_type": "markdown",
   "id": "b1098083",
   "metadata": {},
   "source": [
    "소켓 프로그래밍\n",
    "- 의미: 소켓을 가지고 있는 서버/클라이언트 사이의 통신 여부를 확인 \n",
    "- 소켓 = IP + 포트번호 + 통신방식 (TCP / UDP) \n",
    "\n",
    "<br>\n",
    "=> 소켓을 만들어줘야 통신이 가능 "
   ]
  },
  {
   "cell_type": "code",
   "execution_count": 3,
   "id": "94ec223b",
   "metadata": {},
   "outputs": [
    {
     "name": "stdout",
     "output_type": "stream",
     "text": [
      "80\n",
      "21\n"
     ]
    }
   ],
   "source": [
    "import socket\n",
    "print(socket.getservbyname('http', 'tcp')) #포트번호 출력\n",
    "print(socket.getservbyname('ftp', 'tcp'))"
   ]
  },
  {
   "cell_type": "markdown",
   "id": "2be0b617",
   "metadata": {},
   "source": [
    "s = socket.socket(family, type, protocol) => 소켓이라는 모듈에서, 소켓이라는 함수를 가져옴 => 소켓생성\n",
    "\n",
    "- ip주소는 필요없음. 통신을 직접하는 것이 아니기 때문 # 소켓 만들고 나서 ip로 보내는 것이기 때문\n",
    "- ip 버전은 명시해줘야\n",
    "- type은 TCP or UDP \n",
    "- protocol은 굳이 지정하지 않아도 됨 (type을 보조해주는 느낌) \n",
    "- 어떤 포트를 사용해서, 무슨 통신을 할건지 명시해주면 됨 \n",
    "\n",
    "- AF_INET은 ipv4로 하겠다는 뜻, 끝에 6을 붙이면 ipv6가 됨\n",
    "- SOCK_DGRAM은 TCP인지 UDP인지 <br>\n",
    "socket_udp = socket.socket(socket.AF_INET, socket.SOCK_DGRAM, socket.IPPROTO_UDP) "
   ]
  },
  {
   "cell_type": "code",
   "execution_count": 4,
   "id": "9f5d4afc",
   "metadata": {},
   "outputs": [],
   "source": [
    "socket_udp = socket.socket(socket.AF_INET, socket.SOCK_DGRAM) "
   ]
  },
  {
   "cell_type": "code",
   "execution_count": 5,
   "id": "5cac6f0b",
   "metadata": {},
   "outputs": [],
   "source": [
    "socket_udp = socket.socket(socket.AF_INET, socket.SOCK_DGRAM, socket.IPPROTO_UDP)"
   ]
  },
  {
   "cell_type": "code",
   "execution_count": 6,
   "id": "a3ac4a2e",
   "metadata": {},
   "outputs": [],
   "source": [
    "socket_tcp = socket.socket(socket.AF_INET, socket.SOCK_STREAM)"
   ]
  },
  {
   "cell_type": "code",
   "execution_count": 7,
   "id": "8361eceb",
   "metadata": {},
   "outputs": [],
   "source": [
    "socket_tcp = socket.socket(socket.AF_INET, socket.SOCK_STREAM, socket.IPPROTO_TCP)"
   ]
  },
  {
   "cell_type": "markdown",
   "id": "0e57a4cb",
   "metadata": {},
   "source": [
    "소켓을 만들었다면 통신이 가능함"
   ]
  },
  {
   "cell_type": "code",
   "execution_count": 8,
   "id": "2b9a58f0",
   "metadata": {},
   "outputs": [
    {
     "name": "stdout",
     "output_type": "stream",
     "text": [
      "142.250.206.196\n",
      "['__call__', '__class__', '__delattr__', '__dir__', '__doc__', '__eq__', '__format__', '__ge__', '__getattribute__', '__gt__', '__hash__', '__init__', '__init_subclass__', '__le__', '__lt__', '__module__', '__name__', '__ne__', '__new__', '__qualname__', '__reduce__', '__reduce_ex__', '__repr__', '__self__', '__setattr__', '__sizeof__', '__str__', '__subclasshook__', '__text_signature__']\n"
     ]
    },
    {
     "ename": "TypeError",
     "evalue": "connect() takes exactly one argument (2 given)",
     "output_type": "error",
     "traceback": [
      "\u001b[1;31m---------------------------------------------------------------------------\u001b[0m",
      "\u001b[1;31mTypeError\u001b[0m                                 Traceback (most recent call last)",
      "\u001b[1;32m<ipython-input-8-c53ab9a94faf>\u001b[0m in \u001b[0;36m<module>\u001b[1;34m\u001b[0m\n\u001b[0;32m      7\u001b[0m \u001b[0mprint\u001b[0m\u001b[1;33m(\u001b[0m\u001b[0maddress\u001b[0m\u001b[1;33m)\u001b[0m\u001b[1;33m\u001b[0m\u001b[1;33m\u001b[0m\u001b[0m\n\u001b[0;32m      8\u001b[0m \u001b[0mprint\u001b[0m\u001b[1;33m(\u001b[0m\u001b[0mdir\u001b[0m\u001b[1;33m(\u001b[0m\u001b[0msocket_tcp\u001b[0m\u001b[1;33m.\u001b[0m\u001b[0mconnect\u001b[0m\u001b[1;33m)\u001b[0m\u001b[1;33m)\u001b[0m\u001b[1;33m\u001b[0m\u001b[1;33m\u001b[0m\u001b[0m\n\u001b[1;32m----> 9\u001b[1;33m \u001b[0msocket_tcp\u001b[0m\u001b[1;33m.\u001b[0m\u001b[0mconnect\u001b[0m\u001b[1;33m(\u001b[0m\u001b[0maddress\u001b[0m\u001b[1;33m,\u001b[0m \u001b[0mport\u001b[0m\u001b[1;33m)\u001b[0m\u001b[1;33m\u001b[0m\u001b[1;33m\u001b[0m\u001b[0m\n\u001b[0m",
      "\u001b[1;31mTypeError\u001b[0m: connect() takes exactly one argument (2 given)"
     ]
    }
   ],
   "source": [
    "host = \"www.google.com\" #ip\n",
    "port = 80 #포트번호\n",
    "\n",
    "socket_tcp = socket.socket(socket.AF_INET, socket.SOCK_STREAM) #tcp \n",
    "\n",
    "address=socket.gethostbyname(host)\n",
    "print(address)\n",
    "print(dir(socket_tcp.connect))\n",
    "socket_tcp.connect(address, port)"
   ]
  },
  {
   "cell_type": "code",
   "execution_count": 9,
   "id": "4150513c",
   "metadata": {},
   "outputs": [
    {
     "ename": "AttributeError",
     "evalue": "'socket' object has no attribute 'gethostbyname'",
     "output_type": "error",
     "traceback": [
      "\u001b[1;31m---------------------------------------------------------------------------\u001b[0m",
      "\u001b[1;31mAttributeError\u001b[0m                            Traceback (most recent call last)",
      "\u001b[1;32m<ipython-input-9-fb58def6ebf3>\u001b[0m in \u001b[0;36m<module>\u001b[1;34m\u001b[0m\n\u001b[0;32m      4\u001b[0m \u001b[0msocket_tcp\u001b[0m \u001b[1;33m=\u001b[0m \u001b[0msocket\u001b[0m\u001b[1;33m.\u001b[0m\u001b[0msocket\u001b[0m\u001b[1;33m(\u001b[0m\u001b[0msocket\u001b[0m\u001b[1;33m.\u001b[0m\u001b[0mAF_INET\u001b[0m\u001b[1;33m,\u001b[0m \u001b[0msocket\u001b[0m\u001b[1;33m.\u001b[0m\u001b[0mSOCK_STREAM\u001b[0m\u001b[1;33m)\u001b[0m \u001b[1;31m#tcp\u001b[0m\u001b[1;33m\u001b[0m\u001b[1;33m\u001b[0m\u001b[0m\n\u001b[0;32m      5\u001b[0m \u001b[1;33m\u001b[0m\u001b[0m\n\u001b[1;32m----> 6\u001b[1;33m \u001b[0maddress\u001b[0m\u001b[1;33m=\u001b[0m\u001b[0msocket_tcp\u001b[0m\u001b[1;33m.\u001b[0m\u001b[0mgethostbyname\u001b[0m\u001b[1;33m(\u001b[0m\u001b[0mhost\u001b[0m\u001b[1;33m)\u001b[0m\u001b[1;33m\u001b[0m\u001b[1;33m\u001b[0m\u001b[0m\n\u001b[0m\u001b[0;32m      7\u001b[0m \u001b[0mprint\u001b[0m\u001b[1;33m(\u001b[0m\u001b[0maddress\u001b[0m\u001b[1;33m)\u001b[0m\u001b[1;33m\u001b[0m\u001b[1;33m\u001b[0m\u001b[0m\n\u001b[0;32m      8\u001b[0m \u001b[0mprint\u001b[0m\u001b[1;33m(\u001b[0m\u001b[0mdir\u001b[0m\u001b[1;33m(\u001b[0m\u001b[0msocket_tcp\u001b[0m\u001b[1;33m.\u001b[0m\u001b[0mconnect\u001b[0m\u001b[1;33m)\u001b[0m\u001b[1;33m)\u001b[0m\u001b[1;33m\u001b[0m\u001b[1;33m\u001b[0m\u001b[0m\n",
      "\u001b[1;31mAttributeError\u001b[0m: 'socket' object has no attribute 'gethostbyname'"
     ]
    }
   ],
   "source": [
    "host = \"www.google.com\" #ip\n",
    "port = 80 #포트번호\n",
    "\n",
    "socket_tcp = socket.socket(socket.AF_INET, socket.SOCK_STREAM) #tcp \n",
    "\n",
    "address=socket_tcp.gethostbyname(host)\n",
    "print(address)\n",
    "print(dir(socket_tcp.connect))\n",
    "socket_tcp.connect((address, port))"
   ]
  },
  {
   "cell_type": "code",
   "execution_count": 10,
   "id": "497f9c6b",
   "metadata": {},
   "outputs": [
    {
     "name": "stdout",
     "output_type": "stream",
     "text": [
      "142.250.206.196\n",
      "b'HTTP/1.1 500 Internal Server Error\\r\\nContent-Type: text/html; charset=UTF-8\\r\\nDate: Fri, 16 Sep 2022 04:32:10 GMT\\r\\nServer: gws\\r\\nContent-Length: 1730\\r\\nX-XSS-Protection: 0\\r\\nX-Frame-Options: SAMEORIGIN\\r\\n\\r\\n<!DOCTYPE html>\\n<html lang=en>\\n  <meta charset=utf-8>\\n  <meta name=viewport content=\"initial-scale=1, minimum-scale=1, width=device-width\">\\n  <title>Error 500 (Server Error)!!1</title>\\n  <style>\\n    *{margin:0;padding:0}html,code{font:15px/22px arial,sans-serif}html{background:#fff;color:#222;padding:15px}body{margin:7% auto 0;max-width:390px;min-height:180px;padding:30px 0 15px}* > body{background:url(//www.google.com/images/errors/robot.png) 100% 5px no-repeat;padding-right:205px}p{margin:11px 0 22px;overflow:hidden}ins{color:#777;text-decoration:none}a img{border:0}@media screen and (max-width:772px){body{background:none;margin-top:0;max-width:none;padding-right:0}}#logo{background:url(//www.google.com/images/branding/googlelogo/1x/googlelogo_color_150x54dp.png) no-repeat;margin-left:-5px}@media only screen and (min-resolution:192dpi){#logo{background:url(//www.google.com/images/branding/googlelogo/2x/googlelogo_color_150x54dp.png) no-repeat 0% 0%/100% 100%;-moz-border-image:url(//www.google.com/images/branding/googlelogo/2x/googlelogo_color_150x54dp.png) 0}}@media only screen and (-webkit-min-device-pixel-ratio:2){#logo{background:url(//www.google.com/images/branding/googlelogo/2x/googlelogo_color_150x54dp.png) no-repeat;-webkit-background-size:100% 100%}}#logo{display:inline-block;height:54px;width:150px}\\n  </style>\\n  <a href=//www.google.com/><span id=logo aria-label=Google></span></a>\\n  <p><b>500.</b> <ins>That\\xe2\\x80\\x99s an error.</ins>\\n  <p>The server encountered an error and could not complete your request.<p>If the problem persists, please <A HREF=\"http://www.google.com/support/\">report</A> your problem and mention this error message and the query that caused it.  <ins>That\\xe2\\x80\\x99s all we know.</ins>\\n'\n"
     ]
    }
   ],
   "source": [
    "#<소켓을 설정해줘야지>\n",
    "host = \"www.google.com\" #ip\n",
    "port = 80 #포트번호\n",
    "\n",
    "socket_tcp = socket.socket(socket.AF_INET, socket.SOCK_STREAM) #tcp \n",
    "\n",
    "\n",
    "#dns를 ip로 바꿔주기\n",
    "address=socket.gethostbyname(host)\n",
    "print(address)\n",
    "\n",
    "#<연결을 해야지> \n",
    "socket_tcp.connect((address, port))\n",
    "message = \"GET \\ HTTP/1.1 \\r\\n\\r\\n\" #보안유지를 위해 rnrn을 쓰는 것\n",
    "\n",
    "#<메세지를 보내야지, 내 요청에 대한 답을 받을 수 있지~~> \n",
    "socket_tcp.send(message.encode(\"utf-8\")) #utf-8 방식으로 받겠다~~\n",
    "\n",
    "#<요청한 메세지 출력하기>\n",
    "data = socket_tcp.recv(65565) #65565가 받을 수 있는 최대 바이트\n",
    "print(data)"
   ]
  },
  {
   "cell_type": "markdown",
   "id": "ebb56899",
   "metadata": {},
   "source": [
    "HTML 통신방식\n",
    "- GET: (제가 통신하는 걸) 보여주세요\n",
    "- POST: 감춰주세요 "
   ]
  },
  {
   "cell_type": "markdown",
   "id": "eb6f10fc",
   "metadata": {},
   "source": [
    "포트스캐너: 포트가 열려있는지, 닫혀있는지 보는 것<br>\n",
    "외부에다가 하면 공격으로 취급받을 수 있음<br>\n",
    "그렇기 때문에 로컬로 걍 연습해~ \n",
    "\n",
    "\n",
    "80번 포트로 응답이 왔음!\n",
    "응답이 오면 통신이 되는 거임\n",
    "(해당포트가 열려있는지 확인해볼거임) "
   ]
  },
  {
   "cell_type": "code",
   "execution_count": 17,
   "id": "a6cb211b",
   "metadata": {},
   "outputs": [
    {
     "name": "stdout",
     "output_type": "stream",
     "text": [
      "142.250.76.132\n",
      "b'HTTP/1.1 500 Internal Server Error\\r\\nContent-Type: text/html; charset=UTF-8\\r\\nDate: Fri, 16 Sep 2022 04:35:14 GMT\\r\\nServer: gws\\r\\nContent-Length: 1730\\r\\nX-XSS-Protection: 0\\r\\nX-Frame-Options: SAMEORIGIN\\r\\n\\r\\n<!DOCTYPE html>\\n<html lang=en>\\n  <meta charset=utf-8>\\n  <meta name=viewport content=\"initial-scale=1, minimum-scale=1, width=device-width\">\\n  <title>Error 500 (Server Error)!!1</title>\\n  <style>\\n    *{margin:0;padding:0}html,code{font:15px/22px arial,sans-serif}html{background:#fff;color:#222;padding:15px}body{margin:7% auto 0;max-width:390px;min-height:180px;padding:30px 0 15px}* > body{background:url(//www.google.com/images/errors/robot.png) 100% 5px no-repeat;padding-right:205px}p{margin:11px 0 22px;overflow:hidden}ins{color:#777;text-decoration:none}a img{border:0}@media screen and (max-width:772px){body{background:none;margin-top:0;max-width:none;padding-right:0}}#logo{background:url(//www.google.com/images/branding/googlelogo/1x/googlelogo_color_150x54dp.png) no-repeat;margin-left:-5px}@media only screen and (min-resolution:192dpi){#logo{background:url(//www.google.com/images/branding/googlelogo/2x/googlelogo_color_150x54dp.png) no-repeat 0% 0%/100% 100%;-moz-border-image:url(//www.google.com/images/branding/googlelogo/2x/googlelogo_color_150x54dp.png) 0}}@media only screen and (-webkit-min-device-pixel-ratio:2){#logo{background:url(//www.google.com/images/branding/googlelogo/2x/googlelogo_color_150x54dp.png) no-repeat;-webkit-background-size:100% 100%}}#logo{display:inline-block;height:54px;width:150px}\\n  </style>\\n  <a href=//www.google.com/><span id=logo aria-label=Google></span></a>\\n  <p><b>500.</b> <ins>That\\xe2\\x80\\x99s an error.</ins>\\n  <p>The server encountered an error and could not complete your request.<p>If the problem persists, please <A HREF=\"http://www.google.com/support/\">report</A> your problem and mention this error message and the query that caused it.  <ins>That\\xe2\\x80\\x99s all we know.</ins>\\n'\n"
     ]
    }
   ],
   "source": [
    "host = \"www.google.com\" \n",
    "port = 80 \n",
    "socket_tcp = socket.socket(socket.AF_INET, socket.SOCK_STREAM) \n",
    "\n",
    "address = socket.gethostbyname(host)\n",
    "print(address)\n",
    "socket_tcp.connect((address, port))\n",
    "message = \"GET \\ HTTP/1.1 \\r\\n\\r\\n\" \n",
    "socket_tcp.send(message.encode(\"utf-8\")) \n",
    "data = socket_tcp.recv(65565) \n",
    "print(data)"
   ]
  },
  {
   "cell_type": "code",
   "execution_count": 20,
   "id": "0fd45da6",
   "metadata": {},
   "outputs": [
    {
     "name": "stdout",
     "output_type": "stream",
     "text": [
      "port:8800 is close!\n",
      "port:8801 is close!\n",
      "port:8802 is close!\n",
      "port:8803 is close!\n",
      "port:8804 is close!\n",
      "port:8805 is close!\n",
      "port:8806 is close!\n",
      "port:8807 is close!\n",
      "port:8808 is close!\n",
      "port:8809 is close!\n",
      "port:8810 is close!\n",
      "port:8811 is close!\n",
      "port:8812 is close!\n",
      "port:8813 is close!\n",
      "port:8814 is close!\n",
      "port:8815 is close!\n",
      "port:8816 is close!\n",
      "port:8817 is close!\n",
      "port:8818 is close!\n",
      "port:8819 is close!\n",
      "port:8820 is close!\n",
      "port:8821 is close!\n",
      "port:8822 is close!\n",
      "port:8823 is close!\n",
      "port:8824 is close!\n",
      "port:8825 is close!\n",
      "port:8826 is close!\n",
      "port:8827 is close!\n",
      "port:8828 is close!\n",
      "port:8829 is close!\n",
      "port:8830 is close!\n",
      "port:8831 is close!\n",
      "port:8832 is close!\n",
      "port:8833 is close!\n",
      "port:8834 is close!\n",
      "port:8835 is close!\n",
      "port:8836 is close!\n",
      "port:8837 is close!\n",
      "port:8838 is close!\n",
      "port:8839 is close!\n",
      "port:8840 is close!\n",
      "port:8841 is close!\n",
      "port:8842 is close!\n",
      "port:8843 is close!\n",
      "port:8844 is close!\n",
      "port:8845 is close!\n",
      "port:8846 is close!\n",
      "port:8847 is close!\n",
      "port:8848 is close!\n",
      "port:8849 is close!\n",
      "port:8850 is close!\n",
      "port:8851 is close!\n",
      "port:8852 is close!\n",
      "port:8853 is close!\n",
      "port:8854 is close!\n",
      "port:8855 is close!\n",
      "port:8856 is close!\n",
      "port:8857 is close!\n",
      "port:8858 is close!\n",
      "port:8859 is close!\n",
      "port:8860 is close!\n",
      "port:8861 is close!\n",
      "port:8862 is close!\n",
      "port:8863 is close!\n",
      "port:8864 is close!\n",
      "port:8865 is close!\n",
      "port:8866 is close!\n",
      "port:8867 is close!\n",
      "port:8868 is close!\n",
      "port:8869 is close!\n",
      "port:8870 is close!\n",
      "port:8871 is close!\n",
      "port:8872 is close!\n",
      "port:8873 is close!\n",
      "port:8874 is close!\n",
      "port:8875 is close!\n",
      "port:8876 is close!\n",
      "port:8877 is close!\n",
      "port:8878 is close!\n",
      "port:8879 is close!\n",
      "port:8880 is close!\n",
      "port:8881 is close!\n",
      "port:8882 is close!\n",
      "port:8883 is close!\n",
      "port:8884 is close!\n",
      "port:8885 is close!\n",
      "port:8886 is close!\n",
      "port:8887 is close!\n",
      "port:8888 is open!\n",
      "port:8889 is close!\n",
      "port:8890 is close!\n",
      "port:8891 is close!\n",
      "port:8892 is close!\n",
      "port:8893 is close!\n",
      "port:8894 is close!\n",
      "port:8895 is close!\n",
      "port:8896 is close!\n",
      "port:8897 is close!\n",
      "port:8898 is close!\n",
      "port:8899 is close!\n"
     ]
    }
   ],
   "source": [
    "import socket\n",
    "host = [\"127.0.0.1\"]\n",
    "for i in host:\n",
    "    for port in range(8800, 8900):\n",
    "        socket_tcp = socket.socket(socket.AF_INET, socket.SOCK_STREAM, socket.IPPROTO_TCP)\n",
    "        try:\n",
    "            result = socket_tcp.connect_ex((i, port))\n",
    "            if result==0:\n",
    "                print(f\"port:{port} is open!\")\n",
    "            else:\n",
    "                print(f\"port:{port} is close!\")\n",
    "        except:\n",
    "            pass\n",
    "        socket_tcp.close()"
   ]
  },
  {
   "cell_type": "code",
   "execution_count": null,
   "id": "772980ae",
   "metadata": {},
   "outputs": [],
   "source": []
  },
  {
   "cell_type": "code",
   "execution_count": null,
   "id": "27029e1a",
   "metadata": {},
   "outputs": [],
   "source": []
  },
  {
   "cell_type": "code",
   "execution_count": null,
   "id": "f44d5641",
   "metadata": {},
   "outputs": [],
   "source": []
  },
  {
   "cell_type": "code",
   "execution_count": null,
   "id": "57343034",
   "metadata": {},
   "outputs": [],
   "source": []
  },
  {
   "cell_type": "code",
   "execution_count": null,
   "id": "b759b80a",
   "metadata": {},
   "outputs": [],
   "source": []
  }
 ],
 "metadata": {
  "kernelspec": {
   "display_name": "Python 3",
   "language": "python",
   "name": "python3"
  },
  "language_info": {
   "codemirror_mode": {
    "name": "ipython",
    "version": 3
   },
   "file_extension": ".py",
   "mimetype": "text/x-python",
   "name": "python",
   "nbconvert_exporter": "python",
   "pygments_lexer": "ipython3",
   "version": "3.8.8"
  }
 },
 "nbformat": 4,
 "nbformat_minor": 5
}
