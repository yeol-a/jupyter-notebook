{
 "cells": [
  {
   "cell_type": "code",
   "execution_count": 1,
   "id": "9d0a3fae",
   "metadata": {},
   "outputs": [],
   "source": [
    "result = 0\n",
    "def add(num):\n",
    "    global result\n",
    "    result = num + result\n",
    "    return result "
   ]
  },
  {
   "cell_type": "code",
   "execution_count": 2,
   "id": "2cbd5305",
   "metadata": {},
   "outputs": [
    {
     "name": "stdout",
     "output_type": "stream",
     "text": [
      "3\n"
     ]
    }
   ],
   "source": [
    "print(add(3))"
   ]
  },
  {
   "cell_type": "code",
   "execution_count": 3,
   "id": "7a83cfec",
   "metadata": {},
   "outputs": [
    {
     "name": "stdout",
     "output_type": "stream",
     "text": [
      "7\n"
     ]
    }
   ],
   "source": [
    "print(add(4))"
   ]
  },
  {
   "cell_type": "markdown",
   "id": "3b25f370",
   "metadata": {},
   "source": [
    "계산기 필요할 때마다 함수 정의하면 낭비임"
   ]
  },
  {
   "cell_type": "code",
   "execution_count": 4,
   "id": "d4a37b8b",
   "metadata": {},
   "outputs": [],
   "source": [
    "result2 = 0\n",
    "def add2(num):\n",
    "    global result2\n",
    "    result2 = num + result2\n",
    "    return result2"
   ]
  },
  {
   "cell_type": "code",
   "execution_count": 5,
   "id": "2860225c",
   "metadata": {},
   "outputs": [],
   "source": [
    "class Calculator:\n",
    "    def __init__(self):\n",
    "        self.result=0\n",
    "        \n",
    "    def add(self, num):\n",
    "        self.result = num + self.result\n",
    "        return self.result"
   ]
  },
  {
   "cell_type": "code",
   "execution_count": 6,
   "id": "5b2fc1f0",
   "metadata": {},
   "outputs": [],
   "source": [
    "cal1 = Calculator()"
   ]
  },
  {
   "cell_type": "code",
   "execution_count": 7,
   "id": "2963f9d2",
   "metadata": {},
   "outputs": [
    {
     "data": {
      "text/plain": [
       "3"
      ]
     },
     "execution_count": 7,
     "metadata": {},
     "output_type": "execute_result"
    }
   ],
   "source": [
    "cal1.add(3)"
   ]
  },
  {
   "cell_type": "code",
   "execution_count": 8,
   "id": "b2fafc00",
   "metadata": {},
   "outputs": [],
   "source": [
    "cal2 = Calculator()"
   ]
  },
  {
   "cell_type": "markdown",
   "id": "780bc3da",
   "metadata": {},
   "source": [
    "- 클래스를 사용하면 함수를 여러 개 만들 필요없이 클래스에서 가져와서 언제든지 사용 가능"
   ]
  },
  {
   "cell_type": "code",
   "execution_count": 9,
   "id": "70ba4781",
   "metadata": {},
   "outputs": [],
   "source": [
    "del cal1"
   ]
  },
  {
   "cell_type": "markdown",
   "id": "2b2a9757",
   "metadata": {},
   "source": [
    "클래스 장점\n",
    "- 코드가 짤아짐\n",
    "- 클래스 생성 후 클래스로 각각의 객체를 생성하면 서로의 객체에 영향을 미치지 않음\n",
    "- 클래스를 사용하면 함수를 여러개 만들 필요없이 클래스에서 가져와서 언제든지 사용 가능\n",
    "- 클래스로 만들어진 객체가 필요없어지면 지우면 됨 \n",
    "- 함수는 한 번 생성시 계속 적재되어 있음 <br><br>\n",
    "클래스 == 과자 틀 <br>\n",
    "객체 == 과자"
   ]
  },
  {
   "cell_type": "code",
   "execution_count": 10,
   "id": "5db64891",
   "metadata": {},
   "outputs": [],
   "source": [
    "cal1 = Calculator()\n",
    "cal2 = Calculator()"
   ]
  },
  {
   "cell_type": "code",
   "execution_count": 12,
   "id": "c3db3bf1",
   "metadata": {},
   "outputs": [
    {
     "name": "stdout",
     "output_type": "stream",
     "text": [
      "2655373909776 2655373909632\n"
     ]
    }
   ],
   "source": [
    "print(id(cal1), id(cal2))"
   ]
  },
  {
   "cell_type": "markdown",
   "id": "a82f0d74",
   "metadata": {},
   "source": [
    "클래스 생성"
   ]
  },
  {
   "cell_type": "code",
   "execution_count": 19,
   "id": "688106d9",
   "metadata": {},
   "outputs": [],
   "source": [
    "class Forcal:\n",
    "    def setdata(self, first, second):\n",
    "        self.first=first\n",
    "        self.second=second\n",
    "    def add(self):\n",
    "        self.result=self.first+self.second\n",
    "        return self.result \n",
    "    def sub(self):\n",
    "        self.result=self.first-self.second\n",
    "        return self.result\n",
    "    def mul(self):\n",
    "        self.result=self.first*self.second\n",
    "        return self.result\n",
    "    def div(self):\n",
    "        self.result=self.first/self.second\n",
    "        return self.result"
   ]
  },
  {
   "cell_type": "code",
   "execution_count": null,
   "id": "e6f06aa2",
   "metadata": {},
   "outputs": [],
   "source": [
    "class Forcal:\n",
    "    def add(self):\n",
    "        self.first=first\n",
    "        self.second=second\n",
    "        self.result=self.first+self.second\n",
    "        return self.result \n",
    "    \n",
    "#이걸 하다보면, 함수를 부를 때마다 인자를 넣어줘야함 "
   ]
  },
  {
   "cell_type": "code",
   "execution_count": 14,
   "id": "4e398e9b",
   "metadata": {},
   "outputs": [],
   "source": [
    "a = Forcal()\n",
    "a.setdata(4,2)"
   ]
  },
  {
   "cell_type": "markdown",
   "id": "9421457e",
   "metadata": {},
   "source": [
    "self\n",
    "- 객체 자기 자신을 가리킴\n",
    "- 클래스로 객체를 생성하면 클래스 내부의 메서드(함수)는 해당 객체에 맞춰 실행해야 함\n",
    "- 클래스로 만들어진 객체는 서로에게 영향을 미치지 않기 때문\n",
    "- 클래스 내부에 매서드(함수)에 self 매개변수를 지정해서 해당 객체가 자신만의 매서드나 속성(변수)를 사용하게 됨"
   ]
  },
  {
   "cell_type": "code",
   "execution_count": 15,
   "id": "5d768fff",
   "metadata": {},
   "outputs": [],
   "source": [
    "b = Forcal()\n",
    "b.setdata(5, 1)\n",
    "# 혹은\n",
    "Forcal.setdata(b, 5, 1)"
   ]
  },
  {
   "cell_type": "code",
   "execution_count": 16,
   "id": "12913b49",
   "metadata": {},
   "outputs": [
    {
     "name": "stdout",
     "output_type": "stream",
     "text": [
      "4\n"
     ]
    }
   ],
   "source": [
    "print(a.first)"
   ]
  },
  {
   "cell_type": "code",
   "execution_count": 17,
   "id": "544b3618",
   "metadata": {},
   "outputs": [
    {
     "name": "stdout",
     "output_type": "stream",
     "text": [
      "2\n"
     ]
    }
   ],
   "source": [
    "print(a.second)"
   ]
  },
  {
   "cell_type": "code",
   "execution_count": 18,
   "id": "4ebeac52",
   "metadata": {},
   "outputs": [
    {
     "name": "stdout",
     "output_type": "stream",
     "text": [
      "5\n",
      "1\n"
     ]
    }
   ],
   "source": [
    "print(b.first)\n",
    "print(b.second)"
   ]
  },
  {
   "cell_type": "markdown",
   "id": "7020ac4e",
   "metadata": {},
   "source": [
    "Forcal 클래스에 <br>\n",
    "빼기(sub)<br>\n",
    "곱하기(mul)<br>\n",
    "나누기(div)<br>"
   ]
  },
  {
   "cell_type": "code",
   "execution_count": 21,
   "id": "5223ffe3",
   "metadata": {},
   "outputs": [
    {
     "data": {
      "text/plain": [
       "-7"
      ]
     },
     "execution_count": 21,
     "metadata": {},
     "output_type": "execute_result"
    }
   ],
   "source": [
    "c=Forcal()\n",
    "c.setdata(2,9)\n",
    "c.sub()"
   ]
  },
  {
   "cell_type": "code",
   "execution_count": 22,
   "id": "725c28d7",
   "metadata": {},
   "outputs": [
    {
     "data": {
      "text/plain": [
       "18"
      ]
     },
     "execution_count": 22,
     "metadata": {},
     "output_type": "execute_result"
    }
   ],
   "source": [
    "c.mul()"
   ]
  },
  {
   "cell_type": "code",
   "execution_count": 24,
   "id": "3c13381d",
   "metadata": {},
   "outputs": [
    {
     "data": {
      "text/plain": [
       "0.2222222222222222"
      ]
     },
     "execution_count": 24,
     "metadata": {},
     "output_type": "execute_result"
    }
   ],
   "source": [
    "c.div()"
   ]
  },
  {
   "cell_type": "markdown",
   "id": "4cb8417e",
   "metadata": {},
   "source": [
    "매번 연산을 위해서 setdata 메서드를 호출해야할까? <br>\n",
    "객체를 생성하면서 동시에 메서드를 동작시키도록 할 수 없을까? <br> \n",
    "클래스를 호출하는 동시에, 계속 써먹을 디폴트 인자값을 한꺼번에 넣을 수는 없을까? <br>\n",
    "=> def \\_\\_init\\_\\_(self) : 객체만드는 순간, 기본적으로 동작하는 메서드 "
   ]
  },
  {
   "cell_type": "code",
   "execution_count": 26,
   "id": "b9316190",
   "metadata": {},
   "outputs": [],
   "source": [
    "class Forcal:\n",
    "    def __init__(self, first, second):\n",
    "        self.first=first\n",
    "        self.second=second \n",
    "    def add(self):\n",
    "        self.result=self.first+self.second\n",
    "        return self.result \n",
    "    def sub(self):\n",
    "        self.result=self.first-self.second\n",
    "        return self.result\n",
    "    def mul(self):\n",
    "        self.result=self.first*self.second\n",
    "        return self.result\n",
    "    def div(self):\n",
    "        self.result=self.first/self.second\n",
    "        return self.result"
   ]
  },
  {
   "cell_type": "code",
   "execution_count": 28,
   "id": "d8d8fd8d",
   "metadata": {},
   "outputs": [
    {
     "data": {
      "text/plain": [
       "6"
      ]
     },
     "execution_count": 28,
     "metadata": {},
     "output_type": "execute_result"
    }
   ],
   "source": [
    "a=Forcal(4,2)\n",
    "a.add()"
   ]
  },
  {
   "cell_type": "code",
   "execution_count": 32,
   "id": "d49f5b01",
   "metadata": {},
   "outputs": [
    {
     "data": {
      "text/plain": [
       "4"
      ]
     },
     "execution_count": 32,
     "metadata": {},
     "output_type": "execute_result"
    }
   ],
   "source": [
    "a.first"
   ]
  },
  {
   "cell_type": "code",
   "execution_count": 33,
   "id": "d6b3ffdb",
   "metadata": {},
   "outputs": [
    {
     "data": {
      "text/plain": [
       "2"
      ]
     },
     "execution_count": 33,
     "metadata": {},
     "output_type": "execute_result"
    }
   ],
   "source": [
    "a.second"
   ]
  },
  {
   "cell_type": "code",
   "execution_count": 34,
   "id": "1e5c2fe3",
   "metadata": {},
   "outputs": [
    {
     "data": {
      "text/plain": [
       "2"
      ]
     },
     "execution_count": 34,
     "metadata": {},
     "output_type": "execute_result"
    }
   ],
   "source": [
    "a.sub()"
   ]
  },
  {
   "cell_type": "markdown",
   "id": "edbcee26",
   "metadata": {},
   "source": [
    "클래스 상속\n",
    "- 물려받는다는 의미\n",
    "- 해당 클래스가 다른 클래스의 기능을 받아 똑같이 씀"
   ]
  },
  {
   "cell_type": "code",
   "execution_count": 35,
   "id": "4b30d199",
   "metadata": {},
   "outputs": [],
   "source": [
    "class MoreForcal(Forcal):\n",
    "    pass"
   ]
  },
  {
   "cell_type": "code",
   "execution_count": 36,
   "id": "01306c74",
   "metadata": {},
   "outputs": [],
   "source": [
    "d=MoreForcal(4,2)"
   ]
  },
  {
   "cell_type": "code",
   "execution_count": 41,
   "id": "bea0cda5",
   "metadata": {},
   "outputs": [
    {
     "name": "stdout",
     "output_type": "stream",
     "text": [
      "6\n",
      "2\n",
      "8\n",
      "2.0\n"
     ]
    }
   ],
   "source": [
    "print(d.add())\n",
    "print(d.sub())\n",
    "print(d.mul())\n",
    "print(d.div())"
   ]
  },
  {
   "cell_type": "markdown",
   "id": "7520d9f7",
   "metadata": {},
   "source": [
    "MoreForcal 클래스에 <br>\n",
    "fisrt의 second 제곱승을 계산하는 메서드를 정의"
   ]
  },
  {
   "cell_type": "code",
   "execution_count": 42,
   "id": "9614fc67",
   "metadata": {},
   "outputs": [],
   "source": [
    "class MoreForcal(Forcal):\n",
    "    def pow(self):\n",
    "        result=self.first**self.second\n",
    "        return result"
   ]
  },
  {
   "cell_type": "code",
   "execution_count": 44,
   "id": "f7a318c6",
   "metadata": {},
   "outputs": [],
   "source": [
    "e=MoreForcal(3,4)"
   ]
  },
  {
   "cell_type": "code",
   "execution_count": 46,
   "id": "ccadbdfa",
   "metadata": {},
   "outputs": [
    {
     "name": "stdout",
     "output_type": "stream",
     "text": [
      "81\n"
     ]
    }
   ],
   "source": [
    "print(e.pow())"
   ]
  },
  {
   "cell_type": "code",
   "execution_count": 49,
   "id": "8d9d055c",
   "metadata": {},
   "outputs": [],
   "source": [
    "d=MoreForcal(4,0)"
   ]
  },
  {
   "cell_type": "code",
   "execution_count": 50,
   "id": "9dbbd9de",
   "metadata": {},
   "outputs": [
    {
     "ename": "ZeroDivisionError",
     "evalue": "division by zero",
     "output_type": "error",
     "traceback": [
      "\u001b[1;31m---------------------------------------------------------------------------\u001b[0m",
      "\u001b[1;31mZeroDivisionError\u001b[0m                         Traceback (most recent call last)",
      "\u001b[1;32m<ipython-input-50-f434db165744>\u001b[0m in \u001b[0;36m<module>\u001b[1;34m\u001b[0m\n\u001b[1;32m----> 1\u001b[1;33m \u001b[0md\u001b[0m\u001b[1;33m.\u001b[0m\u001b[0mdiv\u001b[0m\u001b[1;33m(\u001b[0m\u001b[1;33m)\u001b[0m\u001b[1;33m\u001b[0m\u001b[1;33m\u001b[0m\u001b[0m\n\u001b[0m",
      "\u001b[1;32m<ipython-input-26-e2cde36dd0d6>\u001b[0m in \u001b[0;36mdiv\u001b[1;34m(self)\u001b[0m\n\u001b[0;32m     13\u001b[0m         \u001b[1;32mreturn\u001b[0m \u001b[0mself\u001b[0m\u001b[1;33m.\u001b[0m\u001b[0mresult\u001b[0m\u001b[1;33m\u001b[0m\u001b[1;33m\u001b[0m\u001b[0m\n\u001b[0;32m     14\u001b[0m     \u001b[1;32mdef\u001b[0m \u001b[0mdiv\u001b[0m\u001b[1;33m(\u001b[0m\u001b[0mself\u001b[0m\u001b[1;33m)\u001b[0m\u001b[1;33m:\u001b[0m\u001b[1;33m\u001b[0m\u001b[1;33m\u001b[0m\u001b[0m\n\u001b[1;32m---> 15\u001b[1;33m         \u001b[0mself\u001b[0m\u001b[1;33m.\u001b[0m\u001b[0mresult\u001b[0m\u001b[1;33m=\u001b[0m\u001b[0mself\u001b[0m\u001b[1;33m.\u001b[0m\u001b[0mfirst\u001b[0m\u001b[1;33m/\u001b[0m\u001b[0mself\u001b[0m\u001b[1;33m.\u001b[0m\u001b[0msecond\u001b[0m\u001b[1;33m\u001b[0m\u001b[1;33m\u001b[0m\u001b[0m\n\u001b[0m\u001b[0;32m     16\u001b[0m         \u001b[1;32mreturn\u001b[0m \u001b[0mself\u001b[0m\u001b[1;33m.\u001b[0m\u001b[0mresult\u001b[0m\u001b[1;33m\u001b[0m\u001b[1;33m\u001b[0m\u001b[0m\n",
      "\u001b[1;31mZeroDivisionError\u001b[0m: division by zero"
     ]
    }
   ],
   "source": [
    "d.div()"
   ]
  },
  {
   "cell_type": "markdown",
   "id": "3709ed2f",
   "metadata": {},
   "source": [
    "일반적인 숫자에서 0을 나누면 에러가 발생<br>\n",
    "부모 클래스 메서드는 그대로 놔두고 자식 클래스에서 재정의 가능\n",
    "- 메서드 오버라이딩(덮어쓰기)"
   ]
  },
  {
   "cell_type": "code",
   "execution_count": 61,
   "id": "e1e08129",
   "metadata": {},
   "outputs": [],
   "source": [
    "class MoreForcal(Forcal):\n",
    "    def pow(self):\n",
    "        result=self.first**self.second\n",
    "        return result\n",
    "    \n",
    "    def div(self):\n",
    "        if self.second == 0:\n",
    "            return 0\n",
    "        else:\n",
    "            return self.first/self.second\n",
    "            "
   ]
  },
  {
   "cell_type": "code",
   "execution_count": 62,
   "id": "352a64a8",
   "metadata": {},
   "outputs": [
    {
     "name": "stdout",
     "output_type": "stream",
     "text": [
      "0\n"
     ]
    }
   ],
   "source": [
    "a=MoreForcal(4,0)\n",
    "print(a.div())"
   ]
  },
  {
   "cell_type": "markdown",
   "id": "d64725aa",
   "metadata": {},
   "source": [
    "모듈\n",
    "- 변수, 함수, 클래스를 모아놓은 파일\n",
    "- 파이썬 파일 \n",
    "- 다른 사람들이 혹은 자신이 직접 만들어서 사용\n",
    "- 모듈을 불러오기 위해서는 import 키워드 사용"
   ]
  },
  {
   "cell_type": "code",
   "execution_count": 64,
   "id": "42a83f81",
   "metadata": {},
   "outputs": [],
   "source": [
    "import mod1"
   ]
  },
  {
   "cell_type": "code",
   "execution_count": 67,
   "id": "75974350",
   "metadata": {},
   "outputs": [
    {
     "name": "stdout",
     "output_type": "stream",
     "text": [
      "5\n"
     ]
    }
   ],
   "source": [
    "print(mod1.add(2,3))"
   ]
  },
  {
   "cell_type": "code",
   "execution_count": 68,
   "id": "c6f4e755",
   "metadata": {},
   "outputs": [],
   "source": [
    "import numpy as np"
   ]
  },
  {
   "cell_type": "code",
   "execution_count": 69,
   "id": "65595d03",
   "metadata": {},
   "outputs": [],
   "source": [
    "# if __name__ = __main__ "
   ]
  },
  {
   "cell_type": "code",
   "execution_count": 70,
   "id": "b3ac4548",
   "metadata": {},
   "outputs": [
    {
     "name": "stdout",
     "output_type": "stream",
     "text": [
      "__main__\n"
     ]
    }
   ],
   "source": [
    "print(__name__)"
   ]
  },
  {
   "cell_type": "code",
   "execution_count": 71,
   "id": "7eb59df8",
   "metadata": {},
   "outputs": [
    {
     "name": "stdout",
     "output_type": "stream",
     "text": [
      "test\n",
      "실행하지 않습니다.\n"
     ]
    }
   ],
   "source": [
    "import test"
   ]
  },
  {
   "cell_type": "code",
   "execution_count": 72,
   "id": "83d47ea4",
   "metadata": {},
   "outputs": [],
   "source": [
    "import mod1"
   ]
  },
  {
   "cell_type": "code",
   "execution_count": 73,
   "id": "489a7dec",
   "metadata": {},
   "outputs": [
    {
     "ename": "AttributeError",
     "evalue": "module 'mod1' has no attribute 'mul'",
     "output_type": "error",
     "traceback": [
      "\u001b[1;31m---------------------------------------------------------------------------\u001b[0m",
      "\u001b[1;31mAttributeError\u001b[0m                            Traceback (most recent call last)",
      "\u001b[1;32m<ipython-input-73-f73bc2d55f7e>\u001b[0m in \u001b[0;36m<module>\u001b[1;34m\u001b[0m\n\u001b[1;32m----> 1\u001b[1;33m \u001b[0mprint\u001b[0m\u001b[1;33m(\u001b[0m\u001b[0mmod1\u001b[0m\u001b[1;33m.\u001b[0m\u001b[0mmul\u001b[0m\u001b[1;33m(\u001b[0m\u001b[1;36m2\u001b[0m\u001b[1;33m,\u001b[0m\u001b[1;36m3\u001b[0m\u001b[1;33m)\u001b[0m\u001b[1;33m)\u001b[0m\u001b[1;33m\u001b[0m\u001b[1;33m\u001b[0m\u001b[0m\n\u001b[0m",
      "\u001b[1;31mAttributeError\u001b[0m: module 'mod1' has no attribute 'mul'"
     ]
    }
   ],
   "source": [
    "print(mod1.mul(2,3))"
   ]
  },
  {
   "cell_type": "markdown",
   "id": "5958fdd7",
   "metadata": {},
   "source": [
    "모듈 파일이 수정됐을 경우 reload시켜줘야함 "
   ]
  },
  {
   "cell_type": "code",
   "execution_count": 74,
   "id": "917d7256",
   "metadata": {},
   "outputs": [
    {
     "name": "stdout",
     "output_type": "stream",
     "text": [
      "6\n"
     ]
    }
   ],
   "source": [
    "from importlib import reload \n",
    "import mod1\n",
    "reload(mod1)\n",
    "import mod1\n",
    "print(mod1.mul(2,3))"
   ]
  },
  {
   "cell_type": "markdown",
   "id": "a59e6828",
   "metadata": {},
   "source": [
    "파일명: mod2.py <br>\n",
    "P1 변수에 3.141592 저장 <br>\n",
    "Math 클래스 생성\n",
    "- solv 메소드 생성: "
   ]
  },
  {
   "cell_type": "code",
   "execution_count": null,
   "id": "d47dd543",
   "metadata": {},
   "outputs": [],
   "source": [
    "import mod2\n",
    "print(mod2.P1)"
   ]
  },
  {
   "cell_type": "code",
   "execution_count": null,
   "id": "bfd750b7",
   "metadata": {},
   "outputs": [],
   "source": [
    "print(mod2.add(2,4))"
   ]
  },
  {
   "cell_type": "code",
   "execution_count": 78,
   "id": "d3cf2c9b",
   "metadata": {},
   "outputs": [
    {
     "name": "stdout",
     "output_type": "stream",
     "text": [
      "12.566368\n"
     ]
    }
   ],
   "source": [
    "a = mod2.Math()\n",
    "print(a.solv(2))"
   ]
  },
  {
   "cell_type": "code",
   "execution_count": 80,
   "id": "89f5b7c0",
   "metadata": {},
   "outputs": [
    {
     "name": "stdout",
     "output_type": "stream",
     "text": [
      "28.274328\n"
     ]
    }
   ],
   "source": [
    "b = mod2.Math()\n",
    "print(mod2.Math.solv(b,3))"
   ]
  },
  {
   "cell_type": "code",
   "execution_count": 81,
   "id": "ea9a4ebe",
   "metadata": {},
   "outputs": [
    {
     "name": "stdout",
     "output_type": "stream",
     "text": [
      "['C:\\\\Users\\\\user\\\\Python', 'C:\\\\ProgramData\\\\Anaconda3\\\\python38.zip', 'C:\\\\ProgramData\\\\Anaconda3\\\\DLLs', 'C:\\\\ProgramData\\\\Anaconda3\\\\lib', 'C:\\\\ProgramData\\\\Anaconda3', '', 'C:\\\\ProgramData\\\\Anaconda3\\\\lib\\\\site-packages', 'C:\\\\ProgramData\\\\Anaconda3\\\\lib\\\\site-packages\\\\locket-0.2.1-py3.8.egg', 'C:\\\\ProgramData\\\\Anaconda3\\\\lib\\\\site-packages\\\\win32', 'C:\\\\ProgramData\\\\Anaconda3\\\\lib\\\\site-packages\\\\win32\\\\lib', 'C:\\\\ProgramData\\\\Anaconda3\\\\lib\\\\site-packages\\\\Pythonwin', 'C:\\\\ProgramData\\\\Anaconda3\\\\lib\\\\site-packages\\\\IPython\\\\extensions', 'C:\\\\Users\\\\user\\\\.ipython']\n"
     ]
    }
   ],
   "source": [
    "import sys\n",
    "print(sys.path)"
   ]
  },
  {
   "cell_type": "code",
   "execution_count": 84,
   "id": "4e39963d",
   "metadata": {},
   "outputs": [
    {
     "name": "stdout",
     "output_type": "stream",
     "text": [
      "Requirement already satisfied: selenium in c:\\users\\user\\anaconda3\\lib\\site-packages (4.4.3)\n",
      "Requirement already satisfied: trio~=0.17 in c:\\users\\user\\anaconda3\\lib\\site-packages (from selenium) (0.21.0)\n",
      "Requirement already satisfied: urllib3[socks]~=1.26 in c:\\users\\user\\anaconda3\\lib\\site-packages (from selenium) (1.26.9)\n",
      "Requirement already satisfied: certifi>=2021.10.8 in c:\\users\\user\\anaconda3\\lib\\site-packages (from selenium) (2021.10.8)\n",
      "Requirement already satisfied: trio-websocket~=0.9 in c:\\users\\user\\anaconda3\\lib\\site-packages (from selenium) (0.9.2)\n",
      "Requirement already satisfied: idna in c:\\users\\user\\anaconda3\\lib\\site-packages (from trio~=0.17->selenium) (3.3)\n",
      "Requirement already satisfied: sortedcontainers in c:\\users\\user\\anaconda3\\lib\\site-packages (from trio~=0.17->selenium) (2.4.0)\n",
      "Requirement already satisfied: attrs>=19.2.0 in c:\\users\\user\\anaconda3\\lib\\site-packages (from trio~=0.17->selenium) (21.4.0)\n",
      "Requirement already satisfied: async-generator>=1.9 in c:\\users\\user\\anaconda3\\lib\\site-packages (from trio~=0.17->selenium) (1.10)\n",
      "Requirement already satisfied: sniffio in c:\\users\\user\\anaconda3\\lib\\site-packages (from trio~=0.17->selenium) (1.2.0)\n",
      "Requirement already satisfied: cffi>=1.14 in c:\\users\\user\\anaconda3\\lib\\site-packages (from trio~=0.17->selenium) (1.15.0)\n",
      "Requirement already satisfied: outcome in c:\\users\\user\\anaconda3\\lib\\site-packages (from trio~=0.17->selenium) (1.2.0)\n",
      "Requirement already satisfied: pycparser in c:\\users\\user\\anaconda3\\lib\\site-packages (from cffi>=1.14->trio~=0.17->selenium) (2.21)\n",
      "Requirement already satisfied: wsproto>=0.14 in c:\\users\\user\\anaconda3\\lib\\site-packages (from trio-websocket~=0.9->selenium) (1.2.0)\n",
      "Requirement already satisfied: PySocks!=1.5.7,<2.0,>=1.5.6 in c:\\users\\user\\anaconda3\\lib\\site-packages (from urllib3[socks]~=1.26->selenium) (1.7.1)\n",
      "Requirement already satisfied: h11<1,>=0.9.0 in c:\\users\\user\\anaconda3\\lib\\site-packages (from wsproto>=0.14->trio-websocket~=0.9->selenium) (0.13.0)\n"
     ]
    }
   ],
   "source": [
    "!pip install selenium"
   ]
  },
  {
   "cell_type": "code",
   "execution_count": 91,
   "id": "8a3c45b4",
   "metadata": {},
   "outputs": [],
   "source": [
    "import inspect"
   ]
  },
  {
   "cell_type": "code",
   "execution_count": 92,
   "id": "b82ea541",
   "metadata": {
    "scrolled": true
   },
   "outputs": [
    {
     "ename": "ModuleNotFoundError",
     "evalue": "No module named 'selenium'",
     "output_type": "error",
     "traceback": [
      "\u001b[1;31m---------------------------------------------------------------------------\u001b[0m",
      "\u001b[1;31mModuleNotFoundError\u001b[0m                       Traceback (most recent call last)",
      "\u001b[1;32m<ipython-input-92-abb2a9e03f2a>\u001b[0m in \u001b[0;36m<module>\u001b[1;34m\u001b[0m\n\u001b[1;32m----> 1\u001b[1;33m \u001b[1;32mimport\u001b[0m \u001b[0mselenium\u001b[0m\u001b[1;33m\u001b[0m\u001b[1;33m\u001b[0m\u001b[0m\n\u001b[0m",
      "\u001b[1;31mModuleNotFoundError\u001b[0m: No module named 'selenium'"
     ]
    }
   ],
   "source": [
    "import selenium"
   ]
  },
  {
   "cell_type": "code",
   "execution_count": 93,
   "id": "6f797f9a",
   "metadata": {},
   "outputs": [
    {
     "ename": "NameError",
     "evalue": "name 'selenium' is not defined",
     "output_type": "error",
     "traceback": [
      "\u001b[1;31m---------------------------------------------------------------------------\u001b[0m",
      "\u001b[1;31mNameError\u001b[0m                                 Traceback (most recent call last)",
      "\u001b[1;32m<ipython-input-93-c59c889c87c8>\u001b[0m in \u001b[0;36m<module>\u001b[1;34m\u001b[0m\n\u001b[1;32m----> 1\u001b[1;33m \u001b[0mprint\u001b[0m\u001b[1;33m(\u001b[0m\u001b[0minspect\u001b[0m\u001b[1;33m.\u001b[0m\u001b[0mgetfile\u001b[0m\u001b[1;33m(\u001b[0m\u001b[0mselenium\u001b[0m\u001b[1;33m)\u001b[0m\u001b[1;33m)\u001b[0m\u001b[1;33m\u001b[0m\u001b[1;33m\u001b[0m\u001b[0m\n\u001b[0m",
      "\u001b[1;31mNameError\u001b[0m: name 'selenium' is not defined"
     ]
    }
   ],
   "source": [
    "print(inspect.getfile(selenium))"
   ]
  },
  {
   "cell_type": "code",
   "execution_count": 101,
   "id": "02179d2d",
   "metadata": {},
   "outputs": [
    {
     "name": "stderr",
     "output_type": "stream",
     "text": [
      "WARNING: Skipping selenium as it is not installed.\n"
     ]
    }
   ],
   "source": [
    "!pip uninstall selenium"
   ]
  },
  {
   "cell_type": "code",
   "execution_count": 102,
   "id": "47e22264",
   "metadata": {},
   "outputs": [
    {
     "name": "stdout",
     "output_type": "stream",
     "text": [
      "Collecting selenium\n",
      "  Using cached selenium-4.4.3-py3-none-any.whl (985 kB)\n",
      "Requirement already satisfied: trio-websocket~=0.9 in c:\\users\\user\\anaconda3\\lib\\site-packages (from selenium) (0.9.2)\n",
      "Requirement already satisfied: urllib3[socks]~=1.26 in c:\\users\\user\\anaconda3\\lib\\site-packages (from selenium) (1.26.9)\n",
      "Requirement already satisfied: certifi>=2021.10.8 in c:\\users\\user\\anaconda3\\lib\\site-packages (from selenium) (2021.10.8)\n",
      "Requirement already satisfied: trio~=0.17 in c:\\users\\user\\anaconda3\\lib\\site-packages (from selenium) (0.21.0)\n",
      "Requirement already satisfied: cffi>=1.14 in c:\\users\\user\\anaconda3\\lib\\site-packages (from trio~=0.17->selenium) (1.15.0)\n",
      "Requirement already satisfied: sniffio in c:\\users\\user\\anaconda3\\lib\\site-packages (from trio~=0.17->selenium) (1.2.0)\n",
      "Requirement already satisfied: async-generator>=1.9 in c:\\users\\user\\anaconda3\\lib\\site-packages (from trio~=0.17->selenium) (1.10)\n",
      "Requirement already satisfied: outcome in c:\\users\\user\\anaconda3\\lib\\site-packages (from trio~=0.17->selenium) (1.2.0)\n",
      "Requirement already satisfied: sortedcontainers in c:\\users\\user\\anaconda3\\lib\\site-packages (from trio~=0.17->selenium) (2.4.0)\n",
      "Requirement already satisfied: attrs>=19.2.0 in c:\\users\\user\\anaconda3\\lib\\site-packages (from trio~=0.17->selenium) (21.4.0)\n",
      "Requirement already satisfied: idna in c:\\users\\user\\anaconda3\\lib\\site-packages (from trio~=0.17->selenium) (3.3)\n",
      "Requirement already satisfied: pycparser in c:\\users\\user\\anaconda3\\lib\\site-packages (from cffi>=1.14->trio~=0.17->selenium) (2.21)\n",
      "Requirement already satisfied: wsproto>=0.14 in c:\\users\\user\\anaconda3\\lib\\site-packages (from trio-websocket~=0.9->selenium) (1.2.0)\n",
      "Requirement already satisfied: PySocks!=1.5.7,<2.0,>=1.5.6 in c:\\users\\user\\anaconda3\\lib\\site-packages (from urllib3[socks]~=1.26->selenium) (1.7.1)\n",
      "Requirement already satisfied: h11<1,>=0.9.0 in c:\\users\\user\\anaconda3\\lib\\site-packages (from wsproto>=0.14->trio-websocket~=0.9->selenium) (0.13.0)\n",
      "Installing collected packages: selenium\n",
      "Successfully installed selenium-4.4.3\n"
     ]
    }
   ],
   "source": [
    "!pip install selenium"
   ]
  },
  {
   "cell_type": "code",
   "execution_count": 3,
   "id": "1b8af375",
   "metadata": {},
   "outputs": [
    {
     "ename": "ModuleNotFoundError",
     "evalue": "No module named 'selenium'",
     "output_type": "error",
     "traceback": [
      "\u001b[1;31m---------------------------------------------------------------------------\u001b[0m",
      "\u001b[1;31mModuleNotFoundError\u001b[0m                       Traceback (most recent call last)",
      "\u001b[1;32m<ipython-input-3-abb2a9e03f2a>\u001b[0m in \u001b[0;36m<module>\u001b[1;34m\u001b[0m\n\u001b[1;32m----> 1\u001b[1;33m \u001b[1;32mimport\u001b[0m \u001b[0mselenium\u001b[0m\u001b[1;33m\u001b[0m\u001b[1;33m\u001b[0m\u001b[0m\n\u001b[0m",
      "\u001b[1;31mModuleNotFoundError\u001b[0m: No module named 'selenium'"
     ]
    }
   ],
   "source": [
    "import selenium"
   ]
  },
  {
   "cell_type": "code",
   "execution_count": 4,
   "id": "5cc979b4",
   "metadata": {},
   "outputs": [
    {
     "ename": "ModuleNotFoundError",
     "evalue": "No module named 'selenium'",
     "output_type": "error",
     "traceback": [
      "\u001b[1;31m---------------------------------------------------------------------------\u001b[0m",
      "\u001b[1;31mModuleNotFoundError\u001b[0m                       Traceback (most recent call last)",
      "\u001b[1;32m<ipython-input-4-ade024cffa34>\u001b[0m in \u001b[0;36m<module>\u001b[1;34m\u001b[0m\n\u001b[1;32m----> 1\u001b[1;33m \u001b[1;32mfrom\u001b[0m \u001b[0mselenium\u001b[0m \u001b[1;32mimport\u001b[0m \u001b[0mwebdriver\u001b[0m\u001b[1;33m\u001b[0m\u001b[1;33m\u001b[0m\u001b[0m\n\u001b[0m\u001b[0;32m      2\u001b[0m \u001b[1;32mfrom\u001b[0m \u001b[0mselenium\u001b[0m\u001b[1;33m.\u001b[0m\u001b[0mwebdriver\u001b[0m\u001b[1;33m.\u001b[0m\u001b[0mchrome\u001b[0m \u001b[1;32mimport\u001b[0m \u001b[0moptions\u001b[0m\u001b[1;33m\u001b[0m\u001b[1;33m\u001b[0m\u001b[0m\n",
      "\u001b[1;31mModuleNotFoundError\u001b[0m: No module named 'selenium'"
     ]
    }
   ],
   "source": [
    "from selenium import webdriver\n",
    "from selenium.webdriver.chrome import options"
   ]
  },
  {
   "cell_type": "code",
   "execution_count": 5,
   "id": "09c73a15",
   "metadata": {},
   "outputs": [
    {
     "ename": "NameError",
     "evalue": "name 'selenium' is not defined",
     "output_type": "error",
     "traceback": [
      "\u001b[1;31m---------------------------------------------------------------------------\u001b[0m",
      "\u001b[1;31mNameError\u001b[0m                                 Traceback (most recent call last)",
      "\u001b[1;32m<ipython-input-5-36c563755ada>\u001b[0m in \u001b[0;36m<module>\u001b[1;34m\u001b[0m\n\u001b[0;32m      1\u001b[0m \u001b[1;32mimport\u001b[0m \u001b[0minspect\u001b[0m\u001b[1;33m\u001b[0m\u001b[1;33m\u001b[0m\u001b[0m\n\u001b[1;32m----> 2\u001b[1;33m \u001b[0mprint\u001b[0m\u001b[1;33m(\u001b[0m\u001b[0minspect\u001b[0m\u001b[1;33m.\u001b[0m\u001b[0mgetfile\u001b[0m\u001b[1;33m(\u001b[0m\u001b[0mselenium\u001b[0m\u001b[1;33m)\u001b[0m\u001b[1;33m)\u001b[0m\u001b[1;33m\u001b[0m\u001b[1;33m\u001b[0m\u001b[0m\n\u001b[0m",
      "\u001b[1;31mNameError\u001b[0m: name 'selenium' is not defined"
     ]
    }
   ],
   "source": [
    "import inspect\n",
    "print(inspect.getfile(selenium))"
   ]
  },
  {
   "cell_type": "markdown",
   "id": "a2fda22f",
   "metadata": {},
   "source": [
    "외장함수"
   ]
  },
  {
   "cell_type": "markdown",
   "id": "b862bb8c",
   "metadata": {},
   "source": [
    "sys 모듈\n",
    "- 시스템을 제어할 수 있는 모듈 "
   ]
  },
  {
   "cell_type": "markdown",
   "id": "7e3d860a",
   "metadata": {},
   "source": [
    "sys.argv는 프로그램명부터, 각각의 자리에 들어오는 인자들을 리스트화 시켜줄 때 사용 "
   ]
  },
  {
   "cell_type": "markdown",
   "id": "62c818ee",
   "metadata": {},
   "source": [
    "파일 입출력"
   ]
  },
  {
   "cell_type": "markdown",
   "id": "6c509c16",
   "metadata": {},
   "source": [
    "파일 생성\n",
    "- 파일 객체 = open(\"파일명\", \"모드\")\n",
    "- 모드\n",
    " - r: 읽기모드\n",
    " - w: 쓰기모드 => 기존의 내용은 지워짐\n",
    " - a: 추가모드\n",
    "- 파일 객체.close()"
   ]
  },
  {
   "cell_type": "code",
   "execution_count": 2,
   "id": "7c3bd0d3",
   "metadata": {},
   "outputs": [],
   "source": [
    "f = open(\"새파일.txt\", \"w\")\n",
    "f.close()"
   ]
  },
  {
   "cell_type": "code",
   "execution_count": 3,
   "id": "d0be4b49",
   "metadata": {},
   "outputs": [],
   "source": [
    "f = open(\"새파일.txt\", \"a\")\n",
    "for i in range(1,11):\n",
    "    data = \"%d번째 줄입니다.\\n\" %i\n",
    "    f.write(data)\n",
    "f.close()"
   ]
  },
  {
   "cell_type": "code",
   "execution_count": 4,
   "id": "6e00b96b",
   "metadata": {},
   "outputs": [],
   "source": [
    "f = open(\"새파일.txt\", \"a\")\n",
    "f.write(\"11번째 줄입니다.\")\n",
    "f.close()"
   ]
  },
  {
   "cell_type": "markdown",
   "id": "ed1870fd",
   "metadata": {},
   "source": [
    "파일을 읽는 방법\n",
    "1. readline() 함수를 사용하는 방법 : 첫째줄만 읽어줌. <br>\n",
    "커서는 그 다음 문장으로 감. "
   ]
  },
  {
   "cell_type": "code",
   "execution_count": 9,
   "id": "ced12618",
   "metadata": {},
   "outputs": [],
   "source": [
    "f = open(\"새파일.txt\", \"r\")\n",
    "while line:\n",
    "    line=f.readline()\n",
    "    print(line)\n",
    "f.close()"
   ]
  },
  {
   "cell_type": "code",
   "execution_count": 10,
   "id": "dd02c60a",
   "metadata": {},
   "outputs": [
    {
     "name": "stdout",
     "output_type": "stream",
     "text": [
      "1번째 줄입니다.\n",
      "\n",
      "2번째 줄입니다.\n",
      "\n",
      "3번째 줄입니다.\n",
      "\n",
      "4번째 줄입니다.\n",
      "\n",
      "5번째 줄입니다.\n",
      "\n",
      "6번째 줄입니다.\n",
      "\n",
      "7번째 줄입니다.\n",
      "\n",
      "8번째 줄입니다.\n",
      "\n",
      "9번째 줄입니다.\n",
      "\n",
      "10번째 줄입니다.\n",
      "\n",
      "11번째 줄입니다.\n"
     ]
    }
   ],
   "source": [
    "f = open(\"새파일.txt\", \"r\")\n",
    "while True:\n",
    "    line=f.readline()\n",
    "    if not line:\n",
    "        break\n",
    "    print(line)\n",
    "f.close()"
   ]
  },
  {
   "cell_type": "markdown",
   "id": "92cce6e0",
   "metadata": {},
   "source": [
    "2. readlines() 함수 사용"
   ]
  },
  {
   "cell_type": "code",
   "execution_count": null,
   "id": "1b31055e",
   "metadata": {},
   "outputs": [],
   "source": []
  },
  {
   "cell_type": "code",
   "execution_count": null,
   "id": "a8b9e11d",
   "metadata": {},
   "outputs": [],
   "source": []
  }
 ],
 "metadata": {
  "kernelspec": {
   "display_name": "Python 3",
   "language": "python",
   "name": "python3"
  },
  "language_info": {
   "codemirror_mode": {
    "name": "ipython",
    "version": 3
   },
   "file_extension": ".py",
   "mimetype": "text/x-python",
   "name": "python",
   "nbconvert_exporter": "python",
   "pygments_lexer": "ipython3",
   "version": "3.8.8"
  }
 },
 "nbformat": 4,
 "nbformat_minor": 5
}
