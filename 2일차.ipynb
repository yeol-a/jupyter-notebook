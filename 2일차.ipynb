{
 "cells": [
  {
   "cell_type": "code",
   "execution_count": 1,
   "id": "70f82717",
   "metadata": {},
   "outputs": [
    {
     "name": "stdout",
     "output_type": "stream",
     "text": [
      "[4, 1, 2, 3]\n"
     ]
    }
   ],
   "source": [
    "a = [1,2,3]\n",
    "a.insert(0,4)\n",
    "print(a)"
   ]
  },
  {
   "cell_type": "code",
   "execution_count": 3,
   "id": "fe50567a",
   "metadata": {},
   "outputs": [
    {
     "name": "stdout",
     "output_type": "stream",
     "text": [
      "[['a', 'b'], 4, 1, 2, 3]\n"
     ]
    }
   ],
   "source": [
    "a.insert(0, ['a','b'])\n",
    "print(a)"
   ]
  },
  {
   "cell_type": "code",
   "execution_count": null,
   "id": "ae93e4c8",
   "metadata": {},
   "outputs": [],
   "source": [
    "a.remove(4)\n",
    "print(a)"
   ]
  },
  {
   "cell_type": "markdown",
   "id": "8cfcd76a",
   "metadata": {},
   "source": [
    "리스트 확장 (extend) = 리스트의 더하기\n",
    "- 괄호 안에는 리스트만 올 수 있음"
   ]
  },
  {
   "cell_type": "code",
   "execution_count": 2,
   "id": "d7d6b07f",
   "metadata": {},
   "outputs": [
    {
     "name": "stdout",
     "output_type": "stream",
     "text": [
      "[1, 2, 3, 4, 5]\n"
     ]
    }
   ],
   "source": [
    "a = [1,2,3]\n",
    "a.extend([4,5])\n",
    "print(a)"
   ]
  },
  {
   "cell_type": "code",
   "execution_count": 3,
   "id": "3bea3eea",
   "metadata": {},
   "outputs": [
    {
     "name": "stdout",
     "output_type": "stream",
     "text": [
      "[1, 2, 3, 4, 5]\n"
     ]
    }
   ],
   "source": [
    "a = [1,2,3]\n",
    "b = [4,5]\n",
    "print(a+b)"
   ]
  },
  {
   "cell_type": "code",
   "execution_count": 5,
   "id": "c4ccb384",
   "metadata": {},
   "outputs": [
    {
     "data": {
      "text/plain": [
       "int"
      ]
     },
     "execution_count": 5,
     "metadata": {},
     "output_type": "execute_result"
    }
   ],
   "source": [
    "t1=(1)\n",
    "type(t1)"
   ]
  },
  {
   "cell_type": "code",
   "execution_count": 6,
   "id": "19230661",
   "metadata": {},
   "outputs": [
    {
     "data": {
      "text/plain": [
       "tuple"
      ]
     },
     "execution_count": 6,
     "metadata": {},
     "output_type": "execute_result"
    }
   ],
   "source": [
    "t2=(1,)\n",
    "type(t2)"
   ]
  },
  {
   "cell_type": "code",
   "execution_count": 7,
   "id": "203b542e",
   "metadata": {},
   "outputs": [
    {
     "name": "stdout",
     "output_type": "stream",
     "text": [
      "(1, 2, 3, 4)\n"
     ]
    }
   ],
   "source": [
    "t1=(1,2)\n",
    "t2=(3,4)\n",
    "t3=t1+t2\n",
    "print(t3)"
   ]
  },
  {
   "cell_type": "markdown",
   "id": "5a876af3",
   "metadata": {},
   "source": [
    "리스트 패팅, 언패킹\n",
    "ex > 1에 a가 들어감 "
   ]
  },
  {
   "cell_type": "code",
   "execution_count": 11,
   "id": "1271f379",
   "metadata": {},
   "outputs": [
    {
     "name": "stdout",
     "output_type": "stream",
     "text": [
      "(1, 2, 3, 4, 5)\n"
     ]
    }
   ],
   "source": [
    "t1=1,2,3,4,5\n",
    "a,b,c,d,e=t1\n",
    "print(t1)"
   ]
  },
  {
   "cell_type": "code",
   "execution_count": 12,
   "id": "4d805f91",
   "metadata": {},
   "outputs": [
    {
     "name": "stdout",
     "output_type": "stream",
     "text": [
      "1\n"
     ]
    }
   ],
   "source": [
    "print(1)"
   ]
  },
  {
   "cell_type": "code",
   "execution_count": 13,
   "id": "fa5dbbc5",
   "metadata": {},
   "outputs": [
    {
     "name": "stdout",
     "output_type": "stream",
     "text": [
      "1\n"
     ]
    }
   ],
   "source": [
    "print(t1[0])"
   ]
  },
  {
   "cell_type": "code",
   "execution_count": 10,
   "id": "6e12a088",
   "metadata": {},
   "outputs": [
    {
     "name": "stdout",
     "output_type": "stream",
     "text": [
      "1 [2, 3, 4, 5]\n"
     ]
    }
   ],
   "source": [
    "a, *b = t1\n",
    "print(a,b)"
   ]
  },
  {
   "cell_type": "markdown",
   "id": "1b9d14ee",
   "metadata": {},
   "source": [
    "T1에서 1를 a, 2를 b, 나머지를 c에 저장 "
   ]
  },
  {
   "cell_type": "code",
   "execution_count": 14,
   "id": "b9c58456",
   "metadata": {},
   "outputs": [
    {
     "name": "stdout",
     "output_type": "stream",
     "text": [
      "1 2 [3, 4, 5]\n"
     ]
    }
   ],
   "source": [
    "a, b, *c =t1\n",
    "print(a,b,c)"
   ]
  },
  {
   "cell_type": "markdown",
   "id": "893cfc85",
   "metadata": {},
   "source": [
    "튜플과 리스트 변경 "
   ]
  },
  {
   "cell_type": "code",
   "execution_count": 16,
   "id": "24505a1e",
   "metadata": {},
   "outputs": [
    {
     "name": "stdout",
     "output_type": "stream",
     "text": [
      "[1, 2, 3, 4, 5]\n"
     ]
    }
   ],
   "source": [
    "T = (1,2,3,4,5)\n",
    "L = list(T)\n",
    "print(L)"
   ]
  },
  {
   "cell_type": "code",
   "execution_count": 17,
   "id": "4842824f",
   "metadata": {},
   "outputs": [
    {
     "name": "stdout",
     "output_type": "stream",
     "text": [
      "(1, 2, 3)\n"
     ]
    }
   ],
   "source": [
    "L = [1,2,3]\n",
    "T = tuple(L)\n",
    "print(T)"
   ]
  },
  {
   "cell_type": "code",
   "execution_count": 18,
   "id": "d1a8ff71",
   "metadata": {},
   "outputs": [],
   "source": [
    "dic = {'name': 'pay', 'phone': '01011112222', 'birth': '1118'}"
   ]
  },
  {
   "cell_type": "code",
   "execution_count": 21,
   "id": "1492c425",
   "metadata": {},
   "outputs": [
    {
     "name": "stdout",
     "output_type": "stream",
     "text": [
      "{'one': 1, 'two': 2}\n"
     ]
    }
   ],
   "source": [
    "a = dict(one=1, two=2)\n",
    "print(a)"
   ]
  },
  {
   "cell_type": "code",
   "execution_count": 24,
   "id": "1f2f72c0",
   "metadata": {},
   "outputs": [
    {
     "name": "stdout",
     "output_type": "stream",
     "text": [
      "{'one': 1, 'two': 2}\n"
     ]
    }
   ],
   "source": [
    "b = dict([['one', 1], ['two', 2]])\n",
    "print(b)"
   ]
  },
  {
   "cell_type": "markdown",
   "id": "450c5a38",
   "metadata": {},
   "source": [
    "keys 변수에 one, two, three 튜플 생성\n",
    "values 변수에 1,2,3 리스트 생성 "
   ]
  },
  {
   "cell_type": "code",
   "execution_count": 26,
   "id": "a20e3f6e",
   "metadata": {},
   "outputs": [
    {
     "name": "stdout",
     "output_type": "stream",
     "text": [
      "{'keys': [1, 2, 3]}\n"
     ]
    }
   ],
   "source": [
    "keys = ('one', 'two', 'three')\n",
    "values = [1,2,3]\n",
    "a = dict(keys=values)\n",
    "print(a)"
   ]
  },
  {
   "cell_type": "code",
   "execution_count": 29,
   "id": "606fce7e",
   "metadata": {},
   "outputs": [
    {
     "name": "stdout",
     "output_type": "stream",
     "text": [
      "{'one': 1, 'two': 2, 'three': 3}\n"
     ]
    }
   ],
   "source": [
    "keys = ('one', 'two', 'three')\n",
    "values = [1,2,3]\n",
    "c= dict(zip(keys, values))\n",
    "print(c)"
   ]
  },
  {
   "cell_type": "markdown",
   "id": "2be764a2",
   "metadata": {},
   "source": [
    "딕셔너리 쌍 추가 "
   ]
  },
  {
   "cell_type": "code",
   "execution_count": 1,
   "id": "fa7443ec",
   "metadata": {},
   "outputs": [
    {
     "name": "stdout",
     "output_type": "stream",
     "text": [
      "{2: 'b'}\n"
     ]
    }
   ],
   "source": [
    "a = {2:'b'}\n",
    "print(a)"
   ]
  },
  {
   "cell_type": "code",
   "execution_count": 2,
   "id": "cd72f2d3",
   "metadata": {},
   "outputs": [
    {
     "name": "stdout",
     "output_type": "stream",
     "text": [
      "{2: 'b', 1: 'a'}\n"
     ]
    }
   ],
   "source": [
    "a[1]='a'\n",
    "print(a)"
   ]
  },
  {
   "cell_type": "code",
   "execution_count": 7,
   "id": "d2b2ed08",
   "metadata": {},
   "outputs": [],
   "source": [
    "def add(a,b):\n",
    "    return a + b\n",
    "def sub(a,b):\n",
    "    return a - b \n",
    "\n",
    "action = {0:add, 1:sub}"
   ]
  },
  {
   "cell_type": "code",
   "execution_count": 10,
   "id": "d190cdf0",
   "metadata": {},
   "outputs": [
    {
     "name": "stdout",
     "output_type": "stream",
     "text": [
      "3\n"
     ]
    }
   ],
   "source": [
    "print(action[0](1,2))"
   ]
  },
  {
   "cell_type": "markdown",
   "id": "faaf258d",
   "metadata": {},
   "source": [
    "딕셔너리 요소 제거"
   ]
  },
  {
   "cell_type": "code",
   "execution_count": 11,
   "id": "ec7ea647",
   "metadata": {},
   "outputs": [
    {
     "name": "stdout",
     "output_type": "stream",
     "text": [
      "{'name': 'pay', 'birth': '1118'}\n"
     ]
    }
   ],
   "source": [
    "dic = {'name': 'pay', 'phone': '01011112222', 'birth': '1118'}\n",
    "del dic['phone']\n",
    "print(dic)"
   ]
  },
  {
   "cell_type": "markdown",
   "id": "99d0e107",
   "metadata": {},
   "source": [
    "키 리스트 만들기 "
   ]
  },
  {
   "cell_type": "code",
   "execution_count": 12,
   "id": "b234572b",
   "metadata": {},
   "outputs": [
    {
     "name": "stdout",
     "output_type": "stream",
     "text": [
      "dict_keys(['name', 'phone', 'birth'])\n"
     ]
    }
   ],
   "source": [
    "dic = {'name': 'pay', 'phone': '01011112222', 'birth': '1118'}\n",
    "print(dic.keys())"
   ]
  },
  {
   "cell_type": "code",
   "execution_count": 13,
   "id": "499e52f2",
   "metadata": {},
   "outputs": [
    {
     "name": "stdout",
     "output_type": "stream",
     "text": [
      "dict_values(['pay', '01011112222', '1118'])\n"
     ]
    }
   ],
   "source": [
    "print(dic.values())"
   ]
  },
  {
   "cell_type": "code",
   "execution_count": 14,
   "id": "e133bab7",
   "metadata": {},
   "outputs": [
    {
     "name": "stdout",
     "output_type": "stream",
     "text": [
      "dict_items([('name', 'pay'), ('phone', '01011112222'), ('birth', '1118')])\n"
     ]
    }
   ],
   "source": [
    "print(dic.items())"
   ]
  },
  {
   "cell_type": "code",
   "execution_count": 15,
   "id": "ac73c07e",
   "metadata": {},
   "outputs": [
    {
     "name": "stdout",
     "output_type": "stream",
     "text": [
      "{}\n"
     ]
    }
   ],
   "source": [
    "dic.clear()\n",
    "print(dic)"
   ]
  },
  {
   "cell_type": "code",
   "execution_count": 16,
   "id": "710f5ff9",
   "metadata": {},
   "outputs": [
    {
     "name": "stdout",
     "output_type": "stream",
     "text": [
      "pay\n"
     ]
    }
   ],
   "source": [
    "dic = {'name': 'pay', 'phone': '01011112222', 'birth': '1118'}\n",
    "print(dic.get('name'))"
   ]
  },
  {
   "cell_type": "markdown",
   "id": "c1a9e0b4",
   "metadata": {},
   "source": [
    "dic 딕셔너리에서 nokey 키에 해당하는 값 추출하기 (대괄호 사용)"
   ]
  },
  {
   "cell_type": "code",
   "execution_count": 17,
   "id": "64c14cbb",
   "metadata": {},
   "outputs": [
    {
     "ename": "KeyError",
     "evalue": "'nokey'",
     "output_type": "error",
     "traceback": [
      "\u001b[1;31m---------------------------------------------------------------------------\u001b[0m",
      "\u001b[1;31mKeyError\u001b[0m                                  Traceback (most recent call last)",
      "\u001b[1;32m<ipython-input-17-a92dcb174b88>\u001b[0m in \u001b[0;36m<module>\u001b[1;34m\u001b[0m\n\u001b[1;32m----> 1\u001b[1;33m \u001b[0mprint\u001b[0m\u001b[1;33m(\u001b[0m\u001b[0mdic\u001b[0m\u001b[1;33m[\u001b[0m\u001b[1;34m'nokey'\u001b[0m\u001b[1;33m]\u001b[0m\u001b[1;33m)\u001b[0m\u001b[1;33m\u001b[0m\u001b[1;33m\u001b[0m\u001b[0m\n\u001b[0m",
      "\u001b[1;31mKeyError\u001b[0m: 'nokey'"
     ]
    }
   ],
   "source": [
    "print(dic['nokey'])"
   ]
  },
  {
   "cell_type": "markdown",
   "id": "7f1c30b5",
   "metadata": {},
   "source": [
    "dic 딕셔너리에서 nokey 키에 해당하는 값 추출하기 (대괄호 사용)"
   ]
  },
  {
   "cell_type": "code",
   "execution_count": 18,
   "id": "be5e9bf7",
   "metadata": {},
   "outputs": [
    {
     "name": "stdout",
     "output_type": "stream",
     "text": [
      "None\n"
     ]
    }
   ],
   "source": [
    "print(dic.get('nokey'))"
   ]
  },
  {
   "cell_type": "markdown",
   "id": "27c64fb1",
   "metadata": {},
   "source": [
    "해당 키가 딕셔너리 안에 있는지 조사 (in)"
   ]
  },
  {
   "cell_type": "code",
   "execution_count": 19,
   "id": "1aa8db2c",
   "metadata": {},
   "outputs": [
    {
     "name": "stdout",
     "output_type": "stream",
     "text": [
      "True\n"
     ]
    }
   ],
   "source": [
    "print('name' in dic)"
   ]
  },
  {
   "cell_type": "code",
   "execution_count": 20,
   "id": "449f8a51",
   "metadata": {},
   "outputs": [
    {
     "name": "stdout",
     "output_type": "stream",
     "text": [
      "False\n"
     ]
    }
   ],
   "source": [
    "print('email' in dic)"
   ]
  },
  {
   "cell_type": "code",
   "execution_count": 21,
   "id": "1fbb2d43",
   "metadata": {},
   "outputs": [
    {
     "name": "stdout",
     "output_type": "stream",
     "text": [
      "False\n"
     ]
    }
   ],
   "source": [
    "print('pay' in dic)"
   ]
  },
  {
   "cell_type": "code",
   "execution_count": 22,
   "id": "eac009c1",
   "metadata": {},
   "outputs": [
    {
     "name": "stdout",
     "output_type": "stream",
     "text": [
      "{1, 2, 3}\n"
     ]
    },
    {
     "data": {
      "text/plain": [
       "set"
      ]
     },
     "execution_count": 22,
     "metadata": {},
     "output_type": "execute_result"
    }
   ],
   "source": [
    "s1 = set([1,2,3])\n",
    "print(s1)\n",
    "type(s1)"
   ]
  },
  {
   "cell_type": "code",
   "execution_count": 24,
   "id": "de67e046",
   "metadata": {},
   "outputs": [
    {
     "name": "stdout",
     "output_type": "stream",
     "text": [
      "{'l', 'e', 'o', 'h'}\n",
      "<class 'set'>\n"
     ]
    }
   ],
   "source": [
    "s2 = set('hello')\n",
    "print(s2)\n",
    "print(type(s2))"
   ]
  },
  {
   "cell_type": "code",
   "execution_count": 25,
   "id": "82802858",
   "metadata": {},
   "outputs": [
    {
     "name": "stdout",
     "output_type": "stream",
     "text": [
      "{'o', 1, 2, 3, 'e', 'l', 'h'}\n"
     ]
    }
   ],
   "source": [
    "print(s1.union(s2))"
   ]
  },
  {
   "cell_type": "code",
   "execution_count": 27,
   "id": "49f26c70",
   "metadata": {},
   "outputs": [
    {
     "name": "stdout",
     "output_type": "stream",
     "text": [
      "{1, 2, 3}\n"
     ]
    }
   ],
   "source": [
    "print(s1-s2)"
   ]
  },
  {
   "cell_type": "code",
   "execution_count": 28,
   "id": "19ddba4f",
   "metadata": {},
   "outputs": [
    {
     "name": "stdout",
     "output_type": "stream",
     "text": [
      "{1, 2, 3}\n"
     ]
    }
   ],
   "source": [
    "print(s1.difference(s2))"
   ]
  },
  {
   "cell_type": "markdown",
   "id": "0b26643a",
   "metadata": {},
   "source": [
    "값 여러개 추가 (update)"
   ]
  },
  {
   "cell_type": "code",
   "execution_count": 34,
   "id": "2f31340c",
   "metadata": {},
   "outputs": [
    {
     "name": "stdout",
     "output_type": "stream",
     "text": [
      "{1, 2, 3, 8, 9, 10, 11}\n"
     ]
    }
   ],
   "source": [
    "s1.update((10,11))\n",
    "print(s1)"
   ]
  },
  {
   "cell_type": "markdown",
   "id": "c20b288e",
   "metadata": {},
   "source": [
    "부울"
   ]
  },
  {
   "cell_type": "code",
   "execution_count": 35,
   "id": "c4b22218",
   "metadata": {},
   "outputs": [
    {
     "name": "stdout",
     "output_type": "stream",
     "text": [
      "거짓\n"
     ]
    }
   ],
   "source": [
    "if []:\n",
    "    print(\"참\")\n",
    "else:\n",
    "    print(\"거짓\")"
   ]
  },
  {
   "cell_type": "code",
   "execution_count": 36,
   "id": "f02bbd0d",
   "metadata": {},
   "outputs": [
    {
     "name": "stdout",
     "output_type": "stream",
     "text": [
      "1514819235904\n"
     ]
    }
   ],
   "source": [
    "a = [1,2,3]\n",
    "print(id(a))"
   ]
  },
  {
   "cell_type": "code",
   "execution_count": 37,
   "id": "6dc610cc",
   "metadata": {},
   "outputs": [
    {
     "name": "stdout",
     "output_type": "stream",
     "text": [
      "1514819235904\n"
     ]
    }
   ],
   "source": [
    "b = a\n",
    "print(id(b))"
   ]
  },
  {
   "cell_type": "code",
   "execution_count": 38,
   "id": "d0a6369f",
   "metadata": {},
   "outputs": [
    {
     "name": "stdout",
     "output_type": "stream",
     "text": [
      "1514819342144\n"
     ]
    }
   ],
   "source": [
    "c = [1,2,3]\n",
    "print(id(c))"
   ]
  },
  {
   "cell_type": "code",
   "execution_count": 41,
   "id": "eeb304e7",
   "metadata": {},
   "outputs": [
    {
     "name": "stdout",
     "output_type": "stream",
     "text": [
      "걸어가라\n"
     ]
    }
   ],
   "source": [
    "money = 2000\n",
    "if money >=3000:\n",
    "    print(\"택시를 타고 가라\")\n",
    "else:\n",
    "    print(\"걸어가라\")"
   ]
  },
  {
   "cell_type": "code",
   "execution_count": 42,
   "id": "5bc83b89",
   "metadata": {},
   "outputs": [
    {
     "name": "stdout",
     "output_type": "stream",
     "text": [
      "택시를 타고 가라\n"
     ]
    }
   ],
   "source": [
    "money = 2000\n",
    "card = True\n",
    "if money >= 3000 or card:\n",
    "    print(\"택시를 타고 가라\")\n",
    "else: \n",
    "    print(\"걸어가라\")"
   ]
  },
  {
   "cell_type": "code",
   "execution_count": 45,
   "id": "d25c851b",
   "metadata": {},
   "outputs": [
    {
     "name": "stdout",
     "output_type": "stream",
     "text": [
      "택시를 타고 가라\n"
     ]
    }
   ],
   "source": [
    "pocket = ['paper', 'cellphone', 'money']\n",
    "if 'money' in pocket:\n",
    "    print(\"택시를 타고 가라\")\n",
    "else:\n",
    "    print(\"걸어가라\")"
   ]
  },
  {
   "cell_type": "code",
   "execution_count": null,
   "id": "86c9f51b",
   "metadata": {},
   "outputs": [],
   "source": [
    "pocket = ['paper', 'cellphone', 'money']\n",
    "if 'money' in pocket:\n",
    "    pass\n",
    "else:\n",
    "    print(\"걸어가라\")"
   ]
  },
  {
   "cell_type": "code",
   "execution_count": 47,
   "id": "d3d559dd",
   "metadata": {},
   "outputs": [
    {
     "name": "stdout",
     "output_type": "stream",
     "text": [
      "돈을 꺼내라\n",
      "종이를 꺼내라\n"
     ]
    }
   ],
   "source": [
    "pocket = ['paper', 'cellphone', 'money']\n",
    "if 'money' in pocket:\n",
    "    print(\"돈을 꺼내라\")\n",
    "    pass\n",
    "    print(\"종이를 꺼내라\")\n",
    "else:\n",
    "    print(\"걸어가라\")"
   ]
  },
  {
   "cell_type": "markdown",
   "id": "f0e5a02a",
   "metadata": {},
   "source": [
    "반복문 for \n",
    "- 튜플, 리스트, 문자열"
   ]
  },
  {
   "cell_type": "code",
   "execution_count": 48,
   "id": "2a1400f4",
   "metadata": {},
   "outputs": [
    {
     "name": "stdout",
     "output_type": "stream",
     "text": [
      "say\n",
      "hello\n",
      "say\n",
      "hello\n",
      "say\n",
      "hello\n"
     ]
    }
   ],
   "source": [
    "for i in ['one', 'two', 'three']:\n",
    "    print(\"say\")\n",
    "    print(\"hello\")"
   ]
  },
  {
   "cell_type": "code",
   "execution_count": 74,
   "id": "63c2fbf5",
   "metadata": {},
   "outputs": [
    {
     "name": "stdout",
     "output_type": "stream",
     "text": [
      "1번 학생 합격입니다.\n",
      "2번 학생 불합격입니다.\n",
      "3번 학생 합격입니다.\n",
      "4번 학생 불합격입니다.\n",
      "5번 학생 합격입니다.\n"
     ]
    }
   ],
   "source": [
    "score = [90, 25, 67, 45, 80]\n",
    "for i in range(0,len(score)):\n",
    "    if score[i] >=60:\n",
    "        print(\"{}번 학생 합격입니다.\".format(i+1))\n",
    "    else:\n",
    "        print(\"{}번 학생 불합격입니다.\".format(i+1))"
   ]
  },
  {
   "cell_type": "code",
   "execution_count": 59,
   "id": "9981d6b6",
   "metadata": {},
   "outputs": [
    {
     "name": "stdout",
     "output_type": "stream",
     "text": [
      "1 번 학생 합격입니다.\n",
      "2 번 학생 불합격입니다.\n",
      "3 번 학생 합격입니다.\n",
      "4 번 학생 불합격입니다.\n",
      "5 번 학생 합격입니다.\n"
     ]
    }
   ],
   "source": [
    "score = [90, 25, 67, 45, 80]\n",
    "number = 0\n",
    "for i in score:\n",
    "    number=number+1\n",
    "    if i >=60:\n",
    "        print(number, \"번 학생 합격입니다.\")\n",
    "    else:\n",
    "        print(number, \"번 학생 불합격입니다.\")"
   ]
  },
  {
   "cell_type": "code",
   "execution_count": 61,
   "id": "06a50659",
   "metadata": {},
   "outputs": [
    {
     "name": "stdout",
     "output_type": "stream",
     "text": [
      "1번 학생 합격입니다.\n",
      "2번 학생 불합격입니다.\n",
      "3번 학생 합격입니다.\n",
      "4번 학생 불합격입니다.\n",
      "5번 학생 합격입니다.\n"
     ]
    }
   ],
   "source": [
    "score = [90, 25, 67, 45, 80]\n",
    "number = 0\n",
    "for i in score:\n",
    "    number=number+1\n",
    "    if i >=60:\n",
    "        print(\"%d번 학생 합격입니다.\" %number)\n",
    "    else:\n",
    "        print(\"%d번 학생 불합격입니다.\" %number)"
   ]
  },
  {
   "cell_type": "markdown",
   "id": "56ce45bd",
   "metadata": {},
   "source": [
    "for 문과 함께 쓰이는 continue 구문 \n",
    "- for 문의 맨 처음으로 돌아가기"
   ]
  },
  {
   "cell_type": "code",
   "execution_count": 64,
   "id": "b6d12e24",
   "metadata": {},
   "outputs": [
    {
     "name": "stdout",
     "output_type": "stream",
     "text": [
      "1번 학생 합격입니다.\n",
      "3번 학생 합격입니다.\n",
      "5번 학생 합격입니다.\n"
     ]
    }
   ],
   "source": [
    "score = [90, 25, 67, 45, 80]\n",
    "number = 0\n",
    "for i in score:\n",
    "    number=number+1\n",
    "    if i < 60:\n",
    "        continue\n",
    "    print(\"%d번 학생 합격입니다.\" %number)"
   ]
  },
  {
   "cell_type": "code",
   "execution_count": 67,
   "id": "6dd6b89a",
   "metadata": {},
   "outputs": [
    {
     "name": "stdout",
     "output_type": "stream",
     "text": [
      "[0, 1, 2, 3, 4, 5, 6, 7, 8, 9]\n"
     ]
    }
   ],
   "source": [
    "a = range(10)\n",
    "print(list(a))"
   ]
  },
  {
   "cell_type": "code",
   "execution_count": 68,
   "id": "62c07f35",
   "metadata": {},
   "outputs": [
    {
     "name": "stdout",
     "output_type": "stream",
     "text": [
      "[2, 3, 4, 5, 6, 7, 8]\n"
     ]
    }
   ],
   "source": [
    "b = range(2,9)\n",
    "print(list(b))"
   ]
  },
  {
   "cell_type": "code",
   "execution_count": 69,
   "id": "11537fe0",
   "metadata": {},
   "outputs": [
    {
     "name": "stdout",
     "output_type": "stream",
     "text": [
      "[2, 5, 8]\n"
     ]
    }
   ],
   "source": [
    "c = range(2,9,3)\n",
    "print(list(c))"
   ]
  },
  {
   "cell_type": "markdown",
   "id": "18c7c639",
   "metadata": {},
   "source": [
    "이중 for 문"
   ]
  },
  {
   "cell_type": "code",
   "execution_count": 75,
   "id": "943c2504",
   "metadata": {},
   "outputs": [
    {
     "name": "stdout",
     "output_type": "stream",
     "text": [
      "2\n",
      "4\n",
      "6\n",
      "8\n",
      "10\n",
      "12\n",
      "14\n",
      "16\n",
      "18\n",
      "\n",
      "3\n",
      "6\n",
      "9\n",
      "12\n",
      "15\n",
      "18\n",
      "21\n",
      "24\n",
      "27\n",
      "\n",
      "4\n",
      "8\n",
      "12\n",
      "16\n",
      "20\n",
      "24\n",
      "28\n",
      "32\n",
      "36\n",
      "\n",
      "5\n",
      "10\n",
      "15\n",
      "20\n",
      "25\n",
      "30\n",
      "35\n",
      "40\n",
      "45\n",
      "\n",
      "6\n",
      "12\n",
      "18\n",
      "24\n",
      "30\n",
      "36\n",
      "42\n",
      "48\n",
      "54\n",
      "\n",
      "7\n",
      "14\n",
      "21\n",
      "28\n",
      "35\n",
      "42\n",
      "49\n",
      "56\n",
      "63\n",
      "\n",
      "8\n",
      "16\n",
      "24\n",
      "32\n",
      "40\n",
      "48\n",
      "56\n",
      "64\n",
      "72\n",
      "\n",
      "9\n",
      "18\n",
      "27\n",
      "36\n",
      "45\n",
      "54\n",
      "63\n",
      "72\n",
      "81\n",
      "\n"
     ]
    }
   ],
   "source": [
    "for i in range(2,10):\n",
    "    for j in range(1,10):\n",
    "        print(i*j)\n",
    "    print(\"\")"
   ]
  },
  {
   "cell_type": "code",
   "execution_count": 76,
   "id": "db47f21e",
   "metadata": {},
   "outputs": [
    {
     "name": "stdout",
     "output_type": "stream",
     "text": [
      "2 4 6 8 10 12 14 16 18 \n",
      "3 6 9 12 15 18 21 24 27 \n",
      "4 8 12 16 20 24 28 32 36 \n",
      "5 10 15 20 25 30 35 40 45 \n",
      "6 12 18 24 30 36 42 48 54 \n",
      "7 14 21 28 35 42 49 56 63 \n",
      "8 16 24 32 40 48 56 64 72 \n",
      "9 18 27 36 45 54 63 72 81 \n"
     ]
    }
   ],
   "source": [
    "for i in range(2,10):\n",
    "    for j in range(1,10):\n",
    "        print(i*j, end=\" \")\n",
    "    print(\"\")"
   ]
  },
  {
   "cell_type": "markdown",
   "id": "35252c25",
   "metadata": {},
   "source": [
    "반복문 while\n",
    "- while 문의 조건문이 참이면 수행할 문장들을 계속 수행함\n",
    "- while 문의 조건문이 거짓일 경우 수행할 문장들이 수행하지 않거나 반복을 멈춤"
   ]
  },
  {
   "cell_type": "code",
   "execution_count": null,
   "id": "3f30a5db",
   "metadata": {},
   "outputs": [],
   "source": [
    "treeHit = 0\n",
    "while treeHit < 10:\n",
    "    treeHit = treeHit + 1\n",
    "    print(\"나무를 %d번 찍었습니다.\" %treeHit)\n",
    "    if treeHit == 10:\n",
    "        print(\"나무 넘어갑니다.\")"
   ]
  },
  {
   "cell_type": "code",
   "execution_count": null,
   "id": "44b0e5e6",
   "metadata": {},
   "outputs": [],
   "source": [
    "ls=[\"1\",\"2\",\"3\",\"4\"]\n",
    "idx = 0\n",
    "while ls:\n",
    "    if ls[idx] != \"4\":\n",
    "        idx=idx+1\n",
    "        print(\"1. ADD \\n2. Del \\n3. List \\n4. Quit\")\n",
    "return \"4. Quit\""
   ]
  },
  {
   "cell_type": "code",
   "execution_count": null,
   "id": "f4611f6d",
   "metadata": {},
   "outputs": [],
   "source": [
    "prompt = \"\"\"\n",
    "1. Add\n",
    "2. Del\n",
    "3. List\n",
    "4. Quit\n",
    "\n",
    "Enter Number : \"\"\"\n",
    "number = 0\n",
    "while number != 4:\n",
    "    print(prompt)\n",
    "    number=int(input())"
   ]
  },
  {
   "cell_type": "markdown",
   "id": "164fc75c",
   "metadata": {},
   "source": [
    "반복문 강제로 빠져나오기 (break)"
   ]
  },
  {
   "cell_type": "markdown",
   "id": "8698846f",
   "metadata": {},
   "source": [
    "커피 자판기가 있다고 가정<br>\n",
    "돈 3000원 보유<br>\n",
    "자판기에서 커피는 10잔 보유<br>\n",
    "커피값 100원 차감<br>\n",
    "남은 돈 액수를 출력<br>\n",
    "커피를 뽑아줍니다 출력\n",
    "커피 수량 1잔 차감\n",
    "커피가 0잔이 되면\n",
    "커피가 다 떨어졌습니다. 판매를 중단합니다. "
   ]
  },
  {
   "cell_type": "code",
   "execution_count": 9,
   "id": "f0652d7b",
   "metadata": {},
   "outputs": [
    {
     "name": "stdout",
     "output_type": "stream",
     "text": [
      "2900 커피를 뽑아줍니다\n",
      "2800 커피를 뽑아줍니다\n",
      "2700 커피를 뽑아줍니다\n",
      "2600 커피를 뽑아줍니다\n",
      "2500 커피를 뽑아줍니다\n",
      "2400 커피를 뽑아줍니다\n",
      "2300 커피를 뽑아줍니다\n",
      "2200 커피를 뽑아줍니다\n",
      "2100 커피를 뽑아줍니다\n",
      "커피가 다 떨어졌습니다. 판매를 중단합니다.\n"
     ]
    }
   ],
   "source": [
    "money=3000\n",
    "coffee=10\n",
    "while money>100:\n",
    "    coffee= coffee -1\n",
    "    money= money -100\n",
    "    if coffee ==0:\n",
    "        print(\"커피가 다 떨어졌습니다. 판매를 중단합니다.\")\n",
    "        break\n",
    "        \n",
    "    print(money, \"커피를 뽑아줍니다\")"
   ]
  },
  {
   "cell_type": "markdown",
   "id": "4b7d15c4",
   "metadata": {},
   "source": [
    "무한루프를 사용하는 경우\n",
    "- 자동화에서 스위치 역할"
   ]
  },
  {
   "cell_type": "code",
   "execution_count": 12,
   "id": "c9c0cc9f",
   "metadata": {},
   "outputs": [],
   "source": [
    "a = True\n",
    "while a:\n",
    "    a=False "
   ]
  },
  {
   "cell_type": "markdown",
   "id": "440ad836",
   "metadata": {},
   "source": [
    "함수\n",
    "- return이 없으면 함수를 호출한 측에 아무런 값도 전달하지 않음.<br>\n",
    "(print를 해도 안 나옴 ㅜㅜ => None 이 뜰거임)"
   ]
  },
  {
   "cell_type": "markdown",
   "id": "12be98ed",
   "metadata": {},
   "source": [
    "입력값은 있고, 출력값은 없는 함수"
   ]
  },
  {
   "cell_type": "code",
   "execution_count": 13,
   "id": "1906f4bf",
   "metadata": {},
   "outputs": [],
   "source": [
    "def add(a,b):\n",
    "    a + b"
   ]
  },
  {
   "cell_type": "code",
   "execution_count": 14,
   "id": "bee9c17d",
   "metadata": {},
   "outputs": [
    {
     "name": "stdout",
     "output_type": "stream",
     "text": [
      "None\n"
     ]
    }
   ],
   "source": [
    "a=add(1,2)\n",
    "print(a)"
   ]
  },
  {
   "cell_type": "markdown",
   "id": "4ee7a491",
   "metadata": {},
   "source": [
    "입력값도 있고, 출력값도 있는 함수"
   ]
  },
  {
   "cell_type": "code",
   "execution_count": 15,
   "id": "c3a12e2f",
   "metadata": {},
   "outputs": [],
   "source": [
    "def add2(a,b):\n",
    "    return a + b "
   ]
  },
  {
   "cell_type": "code",
   "execution_count": 16,
   "id": "bb092930",
   "metadata": {},
   "outputs": [
    {
     "name": "stdout",
     "output_type": "stream",
     "text": [
      "3\n"
     ]
    }
   ],
   "source": [
    "print(add2(1,2))"
   ]
  },
  {
   "cell_type": "markdown",
   "id": "3bfb24fd",
   "metadata": {},
   "source": [
    "입력값은 있고, 출력값은 없는 함수 (print는 출력을 해주지, 출력값은 없음)"
   ]
  },
  {
   "cell_type": "code",
   "execution_count": 18,
   "id": "af0457c2",
   "metadata": {},
   "outputs": [],
   "source": [
    "def add3(a,b):\n",
    "    print (a+b)"
   ]
  },
  {
   "cell_type": "code",
   "execution_count": 19,
   "id": "c3075660",
   "metadata": {},
   "outputs": [
    {
     "name": "stdout",
     "output_type": "stream",
     "text": [
      "3\n"
     ]
    }
   ],
   "source": [
    "add3(1,2)"
   ]
  },
  {
   "cell_type": "code",
   "execution_count": 20,
   "id": "b3eb360a",
   "metadata": {},
   "outputs": [
    {
     "name": "stdout",
     "output_type": "stream",
     "text": [
      "3\n",
      "None\n"
     ]
    }
   ],
   "source": [
    "print(add3(1,2))"
   ]
  },
  {
   "cell_type": "markdown",
   "id": "1664cc6c",
   "metadata": {},
   "source": [
    "add3 함수에 있는 print는 잘 작동을 했는데 <br>\n",
    "add3 함수에는 return이 없기 때문에 결국 print는 아무것도 받지 못하고 None을 출력함"
   ]
  },
  {
   "cell_type": "markdown",
   "id": "072d292e",
   "metadata": {},
   "source": [
    "입력값도 없고, 출력값도 없는 경우"
   ]
  },
  {
   "cell_type": "code",
   "execution_count": 21,
   "id": "5124d29a",
   "metadata": {},
   "outputs": [],
   "source": [
    "def say():\n",
    "    print(\"Hi\")"
   ]
  },
  {
   "cell_type": "code",
   "execution_count": 26,
   "id": "520b81e3",
   "metadata": {},
   "outputs": [
    {
     "name": "stdout",
     "output_type": "stream",
     "text": [
      "Hi\n"
     ]
    }
   ],
   "source": [
    "say()"
   ]
  },
  {
   "cell_type": "code",
   "execution_count": 27,
   "id": "79ec7880",
   "metadata": {},
   "outputs": [
    {
     "name": "stdout",
     "output_type": "stream",
     "text": [
      "Hi\n",
      "None\n"
     ]
    }
   ],
   "source": [
    "print(say())"
   ]
  },
  {
   "cell_type": "markdown",
   "id": "1448b479",
   "metadata": {},
   "source": [
    "입력값은 없고, 출력값은 있는 경우"
   ]
  },
  {
   "cell_type": "code",
   "execution_count": 23,
   "id": "d46b5ff9",
   "metadata": {},
   "outputs": [],
   "source": [
    "def say2():\n",
    "    return \"Hi\""
   ]
  },
  {
   "cell_type": "code",
   "execution_count": 29,
   "id": "c5755913",
   "metadata": {},
   "outputs": [
    {
     "data": {
      "text/plain": [
       "'Hi'"
      ]
     },
     "execution_count": 29,
     "metadata": {},
     "output_type": "execute_result"
    }
   ],
   "source": [
    "say2()"
   ]
  },
  {
   "cell_type": "code",
   "execution_count": 30,
   "id": "572c8165",
   "metadata": {},
   "outputs": [
    {
     "name": "stdout",
     "output_type": "stream",
     "text": [
      "Hi\n"
     ]
    }
   ],
   "source": [
    "print(say2())"
   ]
  },
  {
   "cell_type": "code",
   "execution_count": 31,
   "id": "8448e0b1",
   "metadata": {},
   "outputs": [],
   "source": [
    "def addabs(a,b):\n",
    "    c = a + b\n",
    "    return abs(c)"
   ]
  },
  {
   "cell_type": "code",
   "execution_count": 32,
   "id": "1a41ad26",
   "metadata": {},
   "outputs": [
    {
     "data": {
      "text/plain": [
       "10"
      ]
     },
     "execution_count": 32,
     "metadata": {},
     "output_type": "execute_result"
    }
   ],
   "source": [
    "addabs(-3, -7)"
   ]
  },
  {
   "cell_type": "code",
   "execution_count": 33,
   "id": "aaa86009",
   "metadata": {},
   "outputs": [
    {
     "data": {
      "text/plain": [
       "6"
      ]
     },
     "execution_count": 33,
     "metadata": {},
     "output_type": "execute_result"
    }
   ],
   "source": [
    "addabs(-9, 3)"
   ]
  },
  {
   "cell_type": "code",
   "execution_count": 34,
   "id": "4b3cf1f0",
   "metadata": {},
   "outputs": [
    {
     "name": "stdout",
     "output_type": "stream",
     "text": [
      "6\n"
     ]
    }
   ],
   "source": [
    "print(addabs(-9, 3))"
   ]
  },
  {
   "cell_type": "markdown",
   "id": "c4865b77",
   "metadata": {},
   "source": [
    "함수 안의 함수\n",
    "1. 일급함수\n",
    "- 함수를 다른 함수로 전달 가능"
   ]
  },
  {
   "cell_type": "code",
   "execution_count": 37,
   "id": "6aa2ef90",
   "metadata": {},
   "outputs": [],
   "source": [
    "def add(a,b):\n",
    "    return a + b"
   ]
  },
  {
   "cell_type": "code",
   "execution_count": 38,
   "id": "bbe5dd15",
   "metadata": {},
   "outputs": [
    {
     "data": {
      "text/plain": [
       "4"
      ]
     },
     "execution_count": 38,
     "metadata": {},
     "output_type": "execute_result"
    }
   ],
   "source": [
    "addtion=add\n",
    "addtion(1,3)"
   ]
  },
  {
   "cell_type": "markdown",
   "id": "0598f52f",
   "metadata": {},
   "source": [
    "변수의 유효범위\n",
    "- 전역변수: 모든 범위에서 사용 가능한 변수\n",
    "- 지역변수: 함수 내부에서 정의된 변수, 해당 함수 내부에서만 사용 가능 "
   ]
  },
  {
   "cell_type": "code",
   "execution_count": 39,
   "id": "6f84aceb",
   "metadata": {},
   "outputs": [],
   "source": [
    "str = \"global variable\"\n",
    "\n",
    "def func_1():\n",
    "    str = \"local variable\"\n",
    "    print(str)\n",
    "    "
   ]
  },
  {
   "cell_type": "code",
   "execution_count": 40,
   "id": "7321ec5d",
   "metadata": {},
   "outputs": [
    {
     "name": "stdout",
     "output_type": "stream",
     "text": [
      "local variable\n"
     ]
    }
   ],
   "source": [
    "func_1()"
   ]
  },
  {
   "cell_type": "code",
   "execution_count": 41,
   "id": "12ea838f",
   "metadata": {},
   "outputs": [
    {
     "name": "stdout",
     "output_type": "stream",
     "text": [
      "global variable\n"
     ]
    }
   ],
   "source": [
    "print(str)"
   ]
  },
  {
   "cell_type": "markdown",
   "id": "08637ad7",
   "metadata": {},
   "source": [
    "<함수 내부에서 함수 외부의 변수를 바꾸는 방법>\n",
    "1. return 사용\n",
    "- 함수 내부에서 return을 사용하여 결과값을 전달하고 기존 변수와 같은 이름으로 저장해주는 방법"
   ]
  },
  {
   "cell_type": "code",
   "execution_count": 42,
   "id": "54be3478",
   "metadata": {},
   "outputs": [
    {
     "name": "stdout",
     "output_type": "stream",
     "text": [
      "2\n"
     ]
    }
   ],
   "source": [
    "a = 1\n",
    "def func_2(b):\n",
    "    b = b + 1\n",
    "    return b \n",
    "\n",
    "a = func_2(a)\n",
    "print(a)"
   ]
  },
  {
   "cell_type": "markdown",
   "id": "9ccb268c",
   "metadata": {},
   "source": [
    "2. global 키워드 사용\n",
    "- 함수 내부에서 전역변수를 호출한 후 변수를 선언하여 저장하는 방법"
   ]
  },
  {
   "cell_type": "code",
   "execution_count": 45,
   "id": "b112e438",
   "metadata": {},
   "outputs": [
    {
     "name": "stdout",
     "output_type": "stream",
     "text": [
      "local variable\n"
     ]
    }
   ],
   "source": [
    "str = \"global variable\"\n",
    "\n",
    "def func_3():\n",
    "    global str \n",
    "    str = \"local variable\"\n",
    "    \n",
    "func_3()\n",
    "print(str)"
   ]
  },
  {
   "cell_type": "code",
   "execution_count": null,
   "id": "ce59c507",
   "metadata": {},
   "outputs": [],
   "source": []
  },
  {
   "cell_type": "code",
   "execution_count": null,
   "id": "a5c483a1",
   "metadata": {},
   "outputs": [],
   "source": []
  }
 ],
 "metadata": {
  "kernelspec": {
   "display_name": "Python 3",
   "language": "python",
   "name": "python3"
  }
 },
 "nbformat": 4,
 "nbformat_minor": 5
}
