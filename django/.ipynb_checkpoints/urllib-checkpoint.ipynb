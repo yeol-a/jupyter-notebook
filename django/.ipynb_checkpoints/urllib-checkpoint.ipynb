{
 "cells": [
  {
   "cell_type": "code",
   "execution_count": 1,
   "id": "c9a5d448",
   "metadata": {},
   "outputs": [
    {
     "name": "stdout",
     "output_type": "stream",
     "text": [
      "ParseResult(scheme='http', netloc='www.example.com:80', path='/services', params='', query='category=2&kind=patents', fragment='n10')\n"
     ]
    }
   ],
   "source": [
    "from urllib.parse import urlparse\n",
    "result = urlparse(\"http://www.example.com:80/services?category=2&kind=patents#n10\")\n",
    "print(result)"
   ]
  },
  {
   "cell_type": "markdown",
   "id": "c7e570a3",
   "metadata": {},
   "source": [
    "GET방식"
   ]
  },
  {
   "cell_type": "code",
   "execution_count": 2,
   "id": "357346e2",
   "metadata": {},
   "outputs": [
    {
     "name": "stdout",
     "output_type": "stream",
     "text": [
      "<!doctype html>\n",
      "<html>\n",
      "<head>\n",
      "    <title>Example Domain</title>\n",
      "\n",
      "    <meta charset=\"utf-8\" />\n",
      "    <meta http-equiv=\"Content-type\" content=\"text/html; charset=utf-8\" />\n",
      "    <meta name=\"viewport\" content=\"width=device-width, initial-scale=1\" />\n",
      "    <style type=\"text/css\">\n",
      "    body {\n",
      "        background-color: #f0f0f2;\n",
      "        margin: 0;\n",
      "        padding: 0;\n",
      "        font-family: -apple-system, system-ui, BlinkMacSystemFont, \"Segoe UI\", \"Open Sans\", \"Helvetica Neue\", Helvetica, Arial, sans-serif;\n",
      "        \n",
      "    }\n",
      "    div {\n",
      "        width: 600px;\n",
      "        margin: 5em auto;\n",
      "        padding: 2em;\n",
      "        background-color: #fdfdff;\n",
      "        border-radius: 0.5em;\n",
      "        box-shadow: 2px 3px 7px 2px rgba(0,0,0,0.02);\n",
      "    }\n",
      "    a:link, a:visited {\n",
      "        color: #38488f;\n",
      "        text-decoration: none;\n",
      "    }\n",
      "    @media (max-width: 700px) {\n",
      "        div {\n",
      "            margin: 0 auto;\n",
      "            width: auto;\n",
      "        }\n",
      "    }\n",
      "    </style>    \n",
      "</head>\n",
      "\n",
      "<body>\n",
      "<div>\n",
      "    <h1>Example Domain</h1>\n",
      "    <p>This domain is for use in illustrative examples in documents. You may use this\n",
      "    domain in literature without prior coordination or asking for permission.</p>\n",
      "    <p><a href=\"https://www.iana.org/domains/example\">More information...</a></p>\n",
      "</div>\n",
      "</body>\n",
      "</html>\n",
      "\n"
     ]
    }
   ],
   "source": [
    "from urllib.request import urlopen\n",
    "f = urlopen('http://www.example.com')\n",
    "print(f.read().decode('utf-8'))"
   ]
  },
  {
   "cell_type": "markdown",
   "id": "8b535e98",
   "metadata": {},
   "source": [
    "POST 방식"
   ]
  },
  {
   "cell_type": "code",
   "execution_count": 10,
   "id": "a220952d",
   "metadata": {},
   "outputs": [
    {
     "name": "stdout",
     "output_type": "stream",
     "text": [
      "<!doctype html>\n",
      "<html>\n",
      "<head>\n",
      "    <title>Example Domain</title>\n",
      "\n",
      "    <meta charset=\"utf-8\" />\n",
      "    <meta http-equiv=\"Content-type\" content=\"text/html; charset=utf-8\" />\n",
      "    <meta name=\"viewport\" content=\"width=device-width, initial-scale=1\" />\n",
      "    <style type=\"text/css\">\n",
      "    body {\n",
      "        background-color: #f0f0f2;\n",
      "        margin: 0;\n",
      "        padding: 0;\n",
      "        font-family: -apple-system, system-ui, BlinkMacSystemFont, \"Segoe UI\", \"Open Sans\", \"Helvetica Neue\", Helvetica, Arial, sans-serif;\n",
      "        \n",
      "    }\n",
      "    div {\n",
      "        width: 600px;\n",
      "        margin: 5em auto;\n",
      "        padding: 2em;\n",
      "        background-color: #fdfdff;\n",
      "        border-radius: 0.5em;\n",
      "        box-shadow: 2px 3px 7px 2px rgba(0,0,0,0.02);\n",
      "    }\n",
      "    a:link, a:visited {\n",
      "        color: #38488f;\n",
      "        text-decoration: none;\n",
      "    }\n",
      "    @media (max-width: 700px) {\n",
      "        div {\n",
      "            margin: 0 auto;\n",
      "            width: auto;\n",
      "        }\n",
      "    }\n",
      "    </style>    \n",
      "</head>\n",
      "\n",
      "<body>\n",
      "<div>\n",
      "    <h1>Example Domain</h1>\n",
      "    <p>This domain is for use in illustrative examples in documents. You may use this\n",
      "    domain in literature without prior coordination or asking for permission.</p>\n",
      "    <p><a href=\"https://www.iana.org/domains/example\">More information...</a></p>\n",
      "</div>\n",
      "</body>\n",
      "</html>\n",
      "\n"
     ]
    }
   ],
   "source": [
    "from urllib.request import urlopen\n",
    "data = \"category=2&kind=patents\"\n",
    "f = urlopen(\"http://www.example.com:80\", bytes(data, encoding='utf-8'))\n",
    "print(f.read().decode('utf-8'))"
   ]
  },
  {
   "cell_type": "markdown",
   "id": "5f402e5f",
   "metadata": {},
   "source": [
    "특정 페이지에 요청을 하고 이미지만 검색하여 리스트를 보여주는 코드"
   ]
  },
  {
   "cell_type": "code",
   "execution_count": 18,
   "id": "acbac28e",
   "metadata": {},
   "outputs": [
    {
     "name": "stdout",
     "output_type": "stream",
     "text": [
      "\n",
      ">>>>>> images from http://www.google.com\n",
      "/images/branding/googlelogo/1x/googlelogo_white_background_color_272x92dp.png\n",
      "/textinputassistant/tia.png\n"
     ]
    }
   ],
   "source": [
    "from urllib.request import urlopen \n",
    "from html.parser import HTMLParser\n",
    "\n",
    "class ImageParser(HTMLParser):\n",
    "    def handle_starttag(self, tag, attrs):\n",
    "        if tag != 'img':\n",
    "            return \n",
    "        if not hasattr(self, 'result'):\n",
    "            self.result=[]\n",
    "        for name, value in attrs:\n",
    "            if name == 'src':\n",
    "                self.result.append(value)\n",
    "\n",
    "def parse_image(data):\n",
    "    parser = ImageParser()\n",
    "    parser.feed(data) #이미지 파싱한 것을 data에다가 모아둘거임 \n",
    "    dataSet = set(x for x in parser.result) \n",
    "    return dataSet \n",
    "\n",
    "def main():\n",
    "    url=\"http://www.google.com\"\n",
    "    \n",
    "    with urlopen(url) as f:\n",
    "        charset= f.info().get_param('charset')\n",
    "        data = f.read().decode(charset)\n",
    "        \n",
    "    dataSet = parse_image(data)\n",
    "    print(\"\\n>>>>>> images from\", url)\n",
    "    print(\"\\n\".join(sorted(dataSet)))\n",
    "\n",
    "    \n",
    "if __name__==\"__main__\":\n",
    "    main()"
   ]
  },
  {
   "cell_type": "code",
   "execution_count": 12,
   "id": "db0e2b83",
   "metadata": {},
   "outputs": [],
   "source": [
    "class att:\n",
    "    a = 1\n",
    "    def b(self):\n",
    "        pass "
   ]
  },
  {
   "cell_type": "code",
   "execution_count": 13,
   "id": "6a33ed70",
   "metadata": {},
   "outputs": [
    {
     "data": {
      "text/plain": [
       "True"
      ]
     },
     "execution_count": 13,
     "metadata": {},
     "output_type": "execute_result"
    }
   ],
   "source": [
    "hasattr(att,'b')"
   ]
  },
  {
   "cell_type": "code",
   "execution_count": null,
   "id": "56d18b7c",
   "metadata": {},
   "outputs": [
    {
     "name": "stdout",
     "output_type": "stream",
     "text": [
      "Started Webserver on port 8890\n",
      "Press ^C to quit Webserver\n"
     ]
    }
   ],
   "source": [
    "# HTTP 프로토콜 처리 로직 보유 \n",
    "from http.server import HTTPServer, BaseHTTPRequestHandler\n",
    "\n",
    "class Myhandler(BaseHTTPRequestHandler):\n",
    "    # 매서드 오버라이딩\n",
    "    def do_GET(self):\n",
    "        # 속성 재정의\n",
    "        # 상태\n",
    "        self.send_response_only(200, 'OK')\n",
    "        # 헤더\n",
    "        self.send_header('Content-type', 'text/plain')\n",
    "        # 헤더 마무리\n",
    "        self.end_headers()\n",
    "        # 바디 \n",
    "        self.wfile.write(\"Hello Hello\")\n",
    "        \n",
    "#모듈이 아닌, 프로그램으로 불러오는 경우 실행\n",
    "if __name__ == \"__main__\":\n",
    "    server = HTTPServer\n",
    "    \n",
    "    #서버 실행 (포트 8890, 직접 만든 HTTP 로직 사용)\n",
    "    server = HTTPServer(('', 8890), Myhandler)\n",
    "    print(\"Started Webserver on port 8890\")\n",
    "    print(\"Press ^C to quit Webserver\")\n",
    "    \n",
    "    #서버 구동\n",
    "    server.serve_forever()"
   ]
  },
  {
   "cell_type": "code",
   "execution_count": null,
   "id": "ed87dc09",
   "metadata": {},
   "outputs": [],
   "source": [
    "#응답과 관련된 로직이기 때문에 \n",
    "from django.http import HttpResponse\n",
    "#날짜와 시간을 HTML로  전환해주는 뷰를 만들기 위해 datetime 임포트 \n",
    "import datetime\n",
    "#요청이 오면 응답할 함수를 정의 \n",
    "def current_datetime(request):\n",
    "    # 현재 날짜와 시간을 담을 변수를 선언 \n",
    "    now = datetime.datetime.now()\n",
    "    html = \"<html><body>It is now %s <body><html>\" %now\n",
    "    return HttpResponse(html)"
   ]
  },
  {
   "cell_type": "code",
   "execution_count": null,
   "id": "28ad0b42",
   "metadata": {},
   "outputs": [],
   "source": []
  }
 ],
 "metadata": {
  "kernelspec": {
   "display_name": "Python 3",
   "language": "python",
   "name": "python3"
  },
  "language_info": {
   "codemirror_mode": {
    "name": "ipython",
    "version": 3
   },
   "file_extension": ".py",
   "mimetype": "text/x-python",
   "name": "python",
   "nbconvert_exporter": "python",
   "pygments_lexer": "ipython3",
   "version": "3.8.8"
  }
 },
 "nbformat": 4,
 "nbformat_minor": 5
}
